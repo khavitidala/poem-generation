{
 "cells": [
  {
   "cell_type": "markdown",
   "metadata": {
    "id": "-g1k-boRZLKt"
   },
   "source": [
    "# Assignment I Natural Language Processing Course\n",
    "# Neural-based Language Model: Indonesian Poem Generation\n",
    "by Ryan Abdurohman (1301191171)"
   ]
  },
  {
   "cell_type": "markdown",
   "metadata": {
    "id": "vX8gcqAZLYxO"
   },
   "source": [
    "Catatan: vocab_sz nya ganti jadi len(dls.vocab) (?)"
   ]
  },
  {
   "cell_type": "code",
   "execution_count": null,
   "metadata": {
    "id": "rwkf4E_Go-XU"
   },
   "outputs": [],
   "source": [
    "# !pip install -Uqq fastbook fastai"
   ]
  },
  {
   "cell_type": "code",
   "execution_count": 1,
   "metadata": {
    "id": "zgHjlTQkmcFZ"
   },
   "outputs": [],
   "source": [
    "from fastbook import *\n",
    "from fastai.text.all import *\n",
    "import pandas as pd\n",
    "import numpy as np\n",
    "from tqdm import tqdm\n",
    "import warnings\n",
    "warnings.filterwarnings('ignore')"
   ]
  },
  {
   "cell_type": "code",
   "execution_count": 2,
   "metadata": {
    "colab": {
     "base_uri": "https://localhost:8080/"
    },
    "id": "cQZgCC5emS0g",
    "outputId": "7f600e30-afc3-4338-b908-4f5873dc591a"
   },
   "outputs": [
    {
     "name": "stdout",
     "output_type": "stream",
     "text": [
      "--2022-05-23 01:12:20--  https://raw.githubusercontent.com/Wikidepia/indonesian_datasets/master/crawl/twitter-puisi/data/pelangipuisi.jsonl\n",
      "Resolving raw.githubusercontent.com (raw.githubusercontent.com)... 185.199.108.133, 185.199.109.133, 185.199.110.133, ...\n",
      "Connecting to raw.githubusercontent.com (raw.githubusercontent.com)|185.199.108.133|:443... connected.\n",
      "HTTP request sent, awaiting response... 200 OK\n",
      "Length: 11389849 (11M) [text/plain]\n",
      "Saving to: ‘pelangipuisi.jsonl’\n",
      "\n",
      "pelangipuisi.jsonl  100%[===================>]  10.86M  19.4MB/s    in 0.6s    \n",
      "\n",
      "2022-05-23 01:12:24 (19.4 MB/s) - ‘pelangipuisi.jsonl’ saved [11389849/11389849]\n",
      "\n"
     ]
    }
   ],
   "source": [
    "!wget https://raw.githubusercontent.com/Wikidepia/indonesian_datasets/master/crawl/twitter-puisi/data/pelangipuisi.jsonl"
   ]
  },
  {
   "cell_type": "code",
   "execution_count": 12,
   "metadata": {},
   "outputs": [
    {
     "name": "stdout",
     "output_type": "stream",
     "text": [
      "/opt/conda/lib/python3.8/site-packages/gdown/cli.py:127: FutureWarning: Option `--id` was deprecated in version 4.3.1 and will be removed in 5.0. You don't need to pass it anymore to use a file ID.\n",
      "  warnings.warn(\n",
      "Downloading...\n",
      "From: https://drive.google.com/uc?id=140MXdsU3qsFAGp-Y8KroQPtNSmh1esno\n",
      "To: /home/10epoch.pth\n",
      "100%|████████████████████████████████████████| 177M/177M [00:06<00:00, 28.7MB/s]\n"
     ]
    }
   ],
   "source": [
    "!gdown --id 140MXdsU3qsFAGp-Y8KroQPtNSmh1esno"
   ]
  },
  {
   "cell_type": "code",
   "execution_count": 3,
   "metadata": {
    "id": "vkLcyfbULTdA"
   },
   "outputs": [],
   "source": [
    "def set_seed(seed):\n",
    "    random.seed(seed)\n",
    "    np.random.seed(seed)\n",
    "    torch.manual_seed(seed)\n",
    "    torch.cuda.manual_seed(seed)"
   ]
  },
  {
   "cell_type": "markdown",
   "metadata": {
    "id": "kywYp7yhZHah"
   },
   "source": [
    "## Data Preparation"
   ]
  },
  {
   "cell_type": "code",
   "execution_count": 5,
   "metadata": {
    "colab": {
     "base_uri": "https://localhost:8080/",
     "height": 285
    },
    "id": "ikpAUp9lmnSf",
    "outputId": "c46c8eb8-2ea2-4d00-e577-da8347329947"
   },
   "outputs": [
    {
     "data": {
      "text/html": [
       "<div>\n",
       "<style scoped>\n",
       "    .dataframe tbody tr th:only-of-type {\n",
       "        vertical-align: middle;\n",
       "    }\n",
       "\n",
       "    .dataframe tbody tr th {\n",
       "        vertical-align: top;\n",
       "    }\n",
       "\n",
       "    .dataframe thead th {\n",
       "        text-align: right;\n",
       "    }\n",
       "</style>\n",
       "<table border=\"1\" class=\"dataframe\">\n",
       "  <thead>\n",
       "    <tr style=\"text-align: right;\">\n",
       "      <th></th>\n",
       "      <th>text</th>\n",
       "    </tr>\n",
       "  </thead>\n",
       "  <tbody>\n",
       "    <tr>\n",
       "      <th>0</th>\n",
       "      <td>hanya karena sapa itu. kau tikam rasamu. sisakan, bulir-bulir sedu.</td>\n",
       "    </tr>\n",
       "    <tr>\n",
       "      <th>1</th>\n",
       "      <td>sedang di antrian panjang pada sebuah penantian entah kapan rindu memanggil sebab ada temu yang masih tertinggal</td>\n",
       "    </tr>\n",
       "    <tr>\n",
       "      <th>2</th>\n",
       "      <td>jika kau bukan tempat awal untuk berlabuh, maka kau yang terakhir  di mana aku terjatuh kemudian karam</td>\n",
       "    </tr>\n",
       "    <tr>\n",
       "      <th>3</th>\n",
       "      <td>setiap waktu, aku masih mendengar getar dawai aksaramu, hingga aku terlelap dibuai bayangmu, dan setiap waktuku masih berdo'a yang sama, membelai gelombang tak lupa pula</td>\n",
       "    </tr>\n",
       "    <tr>\n",
       "      <th>4</th>\n",
       "      <td>sebait rindu yang kau bacakan masih terdengar jelas dalam keresahan selembar rindu yang kau tulis di catatan masih terbaca nyata dalam kegilaan sekumpulan rindu yang kau jadikan buku bacaan masih kucetak menjadi kenangan paling edan</td>\n",
       "    </tr>\n",
       "  </tbody>\n",
       "</table>\n",
       "</div>"
      ],
      "text/plain": [
       "                                                                                                                                                                                                                                       text\n",
       "0                                                                                                                                                                       hanya karena sapa itu. kau tikam rasamu. sisakan, bulir-bulir sedu.\n",
       "1                                                                                                                          sedang di antrian panjang pada sebuah penantian entah kapan rindu memanggil sebab ada temu yang masih tertinggal\n",
       "2                                                                                                                                    jika kau bukan tempat awal untuk berlabuh, maka kau yang terakhir  di mana aku terjatuh kemudian karam\n",
       "3                                                                 setiap waktu, aku masih mendengar getar dawai aksaramu, hingga aku terlelap dibuai bayangmu, dan setiap waktuku masih berdo'a yang sama, membelai gelombang tak lupa pula\n",
       "4  sebait rindu yang kau bacakan masih terdengar jelas dalam keresahan selembar rindu yang kau tulis di catatan masih terbaca nyata dalam kegilaan sekumpulan rindu yang kau jadikan buku bacaan masih kucetak menjadi kenangan paling edan"
      ]
     },
     "execution_count": 5,
     "metadata": {},
     "output_type": "execute_result"
    }
   ],
   "source": [
    "df = pd.read_json(path_or_buf=\"pelangipuisi.jsonl\", lines=True) # read data, convert it to dataframe\n",
    "df = df.replace(r'\\n',' ', regex=True) # replace new line into single space\n",
    "df = df.applymap(lambda s:s.lower() if type(s) == str else s) # convert all character into lower case\n",
    "df.head()"
   ]
  },
  {
   "cell_type": "code",
   "execution_count": 6,
   "metadata": {
    "id": "ZH4X-xcs7dkL"
   },
   "outputs": [],
   "source": [
    "df_test = df[85000:]"
   ]
  },
  {
   "cell_type": "code",
   "execution_count": 7,
   "metadata": {
    "id": "tm5vcRnDxnqj"
   },
   "outputs": [],
   "source": [
    "batch_size = 64\n",
    "max_seq_len = 72\n",
    "seed = 42\n",
    "val_sz = 0.1"
   ]
  },
  {
   "cell_type": "code",
   "execution_count": 8,
   "metadata": {
    "id": "y7dHp9rso0MZ"
   },
   "outputs": [
    {
     "data": {
      "text/html": [
       "\n",
       "<style>\n",
       "    /* Turns off some styling */\n",
       "    progress {\n",
       "        /* gets rid of default border in Firefox and Opera. */\n",
       "        border: none;\n",
       "        /* Needs to be in here for Safari polyfill so background images work as expected. */\n",
       "        background-size: auto;\n",
       "    }\n",
       "    .progress-bar-interrupted, .progress-bar-interrupted::-webkit-progress-bar {\n",
       "        background: #F44336;\n",
       "    }\n",
       "</style>\n"
      ],
      "text/plain": [
       "<IPython.core.display.HTML object>"
      ]
     },
     "metadata": {},
     "output_type": "display_data"
    },
    {
     "data": {
      "text/html": [],
      "text/plain": [
       "<IPython.core.display.HTML object>"
      ]
     },
     "metadata": {},
     "output_type": "display_data"
    }
   ],
   "source": [
    "set_seed(42)\n",
    "dls = TextDataLoaders.from_df(df[:85000], valid_pct=val_sz, seed=seed, is_lm=True, seq_len=max_seq_len, backwards=False, bs=batch_size)"
   ]
  },
  {
   "cell_type": "code",
   "execution_count": 9,
   "metadata": {
    "colab": {
     "base_uri": "https://localhost:8080/",
     "height": 17
    },
    "id": "xU8HluWC8HyY",
    "outputId": "dd661b24-6ddc-4366-9a60-0e1c985ba6ac"
   },
   "outputs": [
    {
     "data": {
      "text/html": [
       "\n",
       "<style>\n",
       "    /* Turns off some styling */\n",
       "    progress {\n",
       "        /* gets rid of default border in Firefox and Opera. */\n",
       "        border: none;\n",
       "        /* Needs to be in here for Safari polyfill so background images work as expected. */\n",
       "        background-size: auto;\n",
       "    }\n",
       "    .progress-bar-interrupted, .progress-bar-interrupted::-webkit-progress-bar {\n",
       "        background: #F44336;\n",
       "    }\n",
       "</style>\n"
      ],
      "text/plain": [
       "<IPython.core.display.HTML object>"
      ]
     },
     "metadata": {},
     "output_type": "display_data"
    },
    {
     "data": {
      "text/html": [],
      "text/plain": [
       "<IPython.core.display.HTML object>"
      ]
     },
     "metadata": {},
     "output_type": "display_data"
    }
   ],
   "source": [
    "dls_test = TextDataLoaders.from_df(\n",
    "    df_test, valid_pct=0, seed=seed,\n",
    "    is_lm=True, seq_len=max_seq_len,\n",
    "    backwards=False, bs=batch_size, text_vocab=dls.vocab\n",
    ")"
   ]
  },
  {
   "cell_type": "code",
   "execution_count": 10,
   "metadata": {
    "colab": {
     "base_uri": "https://localhost:8080/"
    },
    "id": "BKNXztNm1DHs",
    "outputId": "fc1d613f-c89a-4909-8dfb-57a22acab8a7"
   },
   "outputs": [
    {
     "data": {
      "text/plain": [
       "<fastai.data.core.DataLoaders at 0x7f6be2dc8e20>"
      ]
     },
     "execution_count": 10,
     "metadata": {},
     "output_type": "execute_result"
    }
   ],
   "source": [
    "dls.cuda()\n",
    "dls_test.cuda()"
   ]
  },
  {
   "cell_type": "code",
   "execution_count": 13,
   "metadata": {
    "colab": {
     "base_uri": "https://localhost:8080/",
     "height": 386
    },
    "id": "k3_ZpyHWruud",
    "outputId": "5ecf80b2-3d97-4735-cfaa-bfa343acbe08"
   },
   "outputs": [
    {
     "data": {
      "text/html": [
       "<table border=\"1\" class=\"dataframe\">\n",
       "  <thead>\n",
       "    <tr style=\"text-align: right;\">\n",
       "      <th></th>\n",
       "      <th>text</th>\n",
       "      <th>text_</th>\n",
       "    </tr>\n",
       "  </thead>\n",
       "  <tbody>\n",
       "    <tr>\n",
       "      <th>0</th>\n",
       "      <td>xxbos akan ada kabar dijatuhkan burung , bukan air hujan , tapi mataku basah karenanya . xxbos xxunk , awalnya aku ragu tentang rasa yang tak pernah hilang , ternyata itu benar adanya . kamu pernah pergi , sekarang datang lagi . xxbos ketika kau tanya mengapa aku diam mengapa aku ingin sendiri mengapa aku akan menjawabnya mengapa kau selalu ada ; dalam setiap yang aku lihat … xxbos saat purnama begitu</td>\n",
       "      <td>akan ada kabar dijatuhkan burung , bukan air hujan , tapi mataku basah karenanya . xxbos xxunk , awalnya aku ragu tentang rasa yang tak pernah hilang , ternyata itu benar adanya . kamu pernah pergi , sekarang datang lagi . xxbos ketika kau tanya mengapa aku diam mengapa aku ingin sendiri mengapa aku akan menjawabnya mengapa kau selalu ada ; dalam setiap yang aku lihat … xxbos saat purnama begitu pijar</td>\n",
       "    </tr>\n",
       "    <tr>\n",
       "      <th>1</th>\n",
       "      <td>namun lembut nian mengusap nurani menyeka jiwa setenang maut xxbos aku bisa menukar sepi dengan secangkir kopi … tapi bagaimana dengan rindu ini ? xxbos hei xxunk kau ? aku di sini menyanyikan lagu sedu sedan untukmu , ungkapan betapa gersang dunia yang tak kau xxunk cinta … xxbos detik - detik waktu berdenting . xxunk bunga melayang jatuh membumi . pada tanah , semua makhluk pulang , berserah . kembali ;</td>\n",
       "      <td>lembut nian mengusap nurani menyeka jiwa setenang maut xxbos aku bisa menukar sepi dengan secangkir kopi … tapi bagaimana dengan rindu ini ? xxbos hei xxunk kau ? aku di sini menyanyikan lagu sedu sedan untukmu , ungkapan betapa gersang dunia yang tak kau xxunk cinta … xxbos detik - detik waktu berdenting . xxunk bunga melayang jatuh membumi . pada tanah , semua makhluk pulang , berserah . kembali ; dipeluk</td>\n",
       "    </tr>\n",
       "    <tr>\n",
       "      <th>2</th>\n",
       "      <td>adalah ketidakmungkinan yang selalu aku perjuangkan sendirian . xxbos aku akan diam , tetapi jemariku akan terus bicara , berteriak tentang keadilan yang kau bungkam . xxbos pada senyum yang sore itu merekah ; sungguh aku tak sengaja jatuh cinta . xxbos kisah lama kembali terkenang lagu lama kembali terngiang nyala lilin mulai surut padam xxbos semesta memberi isyarat , aku kepingan tulang rusukmu yang hilang . xxbos lara itu , membias</td>\n",
       "      <td>ketidakmungkinan yang selalu aku perjuangkan sendirian . xxbos aku akan diam , tetapi jemariku akan terus bicara , berteriak tentang keadilan yang kau bungkam . xxbos pada senyum yang sore itu merekah ; sungguh aku tak sengaja jatuh cinta . xxbos kisah lama kembali terkenang lagu lama kembali terngiang nyala lilin mulai surut padam xxbos semesta memberi isyarat , aku kepingan tulang rusukmu yang hilang . xxbos lara itu , membias tak</td>\n",
       "    </tr>\n",
       "  </tbody>\n",
       "</table>"
      ],
      "text/plain": [
       "<IPython.core.display.HTML object>"
      ]
     },
     "metadata": {},
     "output_type": "display_data"
    }
   ],
   "source": [
    "dls.show_batch(max_n=3)"
   ]
  },
  {
   "cell_type": "markdown",
   "metadata": {
    "id": "AgvON4qeybJz"
   },
   "source": [
    "## Single Layer RNN"
   ]
  },
  {
   "cell_type": "code",
   "execution_count": 77,
   "metadata": {
    "id": "28PA9OkluBHi"
   },
   "outputs": [],
   "source": [
    "class RNNModel(Module):\n",
    "  def __init__(self, vocab_sz=len(dls.vocab), n_hidden=64, n_layers=1):\n",
    "    self.input_hidden = nn.Embedding(vocab_sz, n_hidden)\n",
    "    self.rnn = nn.RNN(n_hidden, n_hidden, n_layers, batch_first=True)\n",
    "    self.hidden_output = nn.Linear(n_hidden, vocab_sz)\n",
    "    self.hidden = torch.zeros(n_layers, batch_size, n_hidden,device=\"cuda:0\")\n",
    "\n",
    "  def forward(self, x):\n",
    "    res, h = self.rnn(self.input_hidden(x), self.hidden)\n",
    "    self.hidden = h.detach()\n",
    "    return self.hidden_output(res)\n",
    "  \n",
    "  def reset(self): self.hidden.zero_()"
   ]
  },
  {
   "cell_type": "code",
   "execution_count": 78,
   "metadata": {
    "id": "8dFuwFJyyfm3"
   },
   "outputs": [],
   "source": [
    "set_seed(42)\n",
    "learn = Learner(\n",
    "    dls, RNNModel(),\n",
    "    loss_func=CrossEntropyLossFlat(),\n",
    "    metrics=[accuracy, Perplexity()],\n",
    "    )"
   ]
  },
  {
   "cell_type": "code",
   "execution_count": 79,
   "metadata": {
    "colab": {
     "base_uri": "https://localhost:8080/"
    },
    "id": "dn9hyyd61JFI",
    "outputId": "cabc1feb-1f66-4839-ce98-77b01f5b3a3e"
   },
   "outputs": [
    {
     "data": {
      "text/plain": [
       "RNNModel(\n",
       "  (input_hidden): Embedding(17440, 64)\n",
       "  (rnn): RNN(64, 64, batch_first=True)\n",
       "  (hidden_output): Linear(in_features=64, out_features=17440, bias=True)\n",
       ")"
      ]
     },
     "execution_count": 79,
     "metadata": {},
     "output_type": "execute_result"
    }
   ],
   "source": [
    "learn.model.cuda()"
   ]
  },
  {
   "cell_type": "code",
   "execution_count": 20,
   "metadata": {
    "colab": {
     "base_uri": "https://localhost:8080/",
     "height": 306
    },
    "id": "YBRZu9Ko1Okb",
    "outputId": "bbf4699f-e254-4a47-d967-f8e6251966c8"
   },
   "outputs": [
    {
     "data": {
      "text/html": [
       "\n",
       "<style>\n",
       "    /* Turns off some styling */\n",
       "    progress {\n",
       "        /* gets rid of default border in Firefox and Opera. */\n",
       "        border: none;\n",
       "        /* Needs to be in here for Safari polyfill so background images work as expected. */\n",
       "        background-size: auto;\n",
       "    }\n",
       "    .progress-bar-interrupted, .progress-bar-interrupted::-webkit-progress-bar {\n",
       "        background: #F44336;\n",
       "    }\n",
       "</style>\n"
      ],
      "text/plain": [
       "<IPython.core.display.HTML object>"
      ]
     },
     "metadata": {},
     "output_type": "display_data"
    },
    {
     "data": {
      "text/html": [],
      "text/plain": [
       "<IPython.core.display.HTML object>"
      ]
     },
     "metadata": {},
     "output_type": "display_data"
    },
    {
     "data": {
      "text/plain": [
       "SuggestedLRs(valley=0.0010000000474974513)"
      ]
     },
     "execution_count": 20,
     "metadata": {},
     "output_type": "execute_result"
    },
    {
     "data": {
      "image/png": "[encoded data removed]",
      "text/plain": [
       "<Figure size 432x288 with 1 Axes>"
      ]
     },
     "metadata": {
      "needs_background": "light"
     },
     "output_type": "display_data"
    }
   ],
   "source": [
    "learn.lr_find()"
   ]
  },
  {
   "cell_type": "code",
   "execution_count": 80,
   "metadata": {
    "colab": {
     "base_uri": "https://localhost:8080/",
     "height": 1000
    },
    "id": "H4DIGq_OzK1O",
    "outputId": "9a4fbeb7-655d-4cf8-c6a3-a6245ede1ce3"
   },
   "outputs": [
    {
     "data": {
      "text/html": [
       "\n",
       "<style>\n",
       "    /* Turns off some styling */\n",
       "    progress {\n",
       "        /* gets rid of default border in Firefox and Opera. */\n",
       "        border: none;\n",
       "        /* Needs to be in here for Safari polyfill so background images work as expected. */\n",
       "        background-size: auto;\n",
       "    }\n",
       "    .progress-bar-interrupted, .progress-bar-interrupted::-webkit-progress-bar {\n",
       "        background: #F44336;\n",
       "    }\n",
       "</style>\n"
      ],
      "text/plain": [
       "<IPython.core.display.HTML object>"
      ]
     },
     "metadata": {},
     "output_type": "display_data"
    },
    {
     "data": {
      "text/html": [
       "<table border=\"1\" class=\"dataframe\">\n",
       "  <thead>\n",
       "    <tr style=\"text-align: left;\">\n",
       "      <th>epoch</th>\n",
       "      <th>train_loss</th>\n",
       "      <th>valid_loss</th>\n",
       "      <th>accuracy</th>\n",
       "      <th>perplexity</th>\n",
       "      <th>time</th>\n",
       "    </tr>\n",
       "  </thead>\n",
       "  <tbody>\n",
       "    <tr>\n",
       "      <td>0</td>\n",
       "      <td>8.482556</td>\n",
       "      <td>7.808226</td>\n",
       "      <td>0.054036</td>\n",
       "      <td>2460.761475</td>\n",
       "      <td>01:01</td>\n",
       "    </tr>\n",
       "    <tr>\n",
       "      <td>1</td>\n",
       "      <td>6.545012</td>\n",
       "      <td>6.468305</td>\n",
       "      <td>0.094347</td>\n",
       "      <td>644.390320</td>\n",
       "      <td>01:01</td>\n",
       "    </tr>\n",
       "    <tr>\n",
       "      <td>2</td>\n",
       "      <td>6.338085</td>\n",
       "      <td>6.219093</td>\n",
       "      <td>0.115506</td>\n",
       "      <td>502.247650</td>\n",
       "      <td>01:01</td>\n",
       "    </tr>\n",
       "    <tr>\n",
       "      <td>3</td>\n",
       "      <td>6.144879</td>\n",
       "      <td>6.080202</td>\n",
       "      <td>0.131076</td>\n",
       "      <td>437.117523</td>\n",
       "      <td>01:01</td>\n",
       "    </tr>\n",
       "    <tr>\n",
       "      <td>4</td>\n",
       "      <td>6.006679</td>\n",
       "      <td>5.965233</td>\n",
       "      <td>0.136773</td>\n",
       "      <td>389.643738</td>\n",
       "      <td>01:01</td>\n",
       "    </tr>\n",
       "    <tr>\n",
       "      <td>5</td>\n",
       "      <td>5.925325</td>\n",
       "      <td>5.927341</td>\n",
       "      <td>0.141005</td>\n",
       "      <td>375.155457</td>\n",
       "      <td>01:02</td>\n",
       "    </tr>\n",
       "    <tr>\n",
       "      <td>6</td>\n",
       "      <td>5.873891</td>\n",
       "      <td>5.854859</td>\n",
       "      <td>0.143446</td>\n",
       "      <td>348.925659</td>\n",
       "      <td>01:02</td>\n",
       "    </tr>\n",
       "    <tr>\n",
       "      <td>7</td>\n",
       "      <td>5.823319</td>\n",
       "      <td>5.839038</td>\n",
       "      <td>0.141222</td>\n",
       "      <td>343.448914</td>\n",
       "      <td>01:03</td>\n",
       "    </tr>\n",
       "    <tr>\n",
       "      <td>8</td>\n",
       "      <td>5.785125</td>\n",
       "      <td>5.797320</td>\n",
       "      <td>0.144857</td>\n",
       "      <td>329.415649</td>\n",
       "      <td>01:02</td>\n",
       "    </tr>\n",
       "    <tr>\n",
       "      <td>9</td>\n",
       "      <td>5.753439</td>\n",
       "      <td>5.767610</td>\n",
       "      <td>0.145996</td>\n",
       "      <td>319.772430</td>\n",
       "      <td>01:02</td>\n",
       "    </tr>\n",
       "    <tr>\n",
       "      <td>10</td>\n",
       "      <td>5.741474</td>\n",
       "      <td>5.758822</td>\n",
       "      <td>0.149631</td>\n",
       "      <td>316.974701</td>\n",
       "      <td>01:02</td>\n",
       "    </tr>\n",
       "    <tr>\n",
       "      <td>11</td>\n",
       "      <td>5.712924</td>\n",
       "      <td>5.750332</td>\n",
       "      <td>0.147352</td>\n",
       "      <td>314.295105</td>\n",
       "      <td>01:02</td>\n",
       "    </tr>\n",
       "    <tr>\n",
       "      <td>12</td>\n",
       "      <td>5.712969</td>\n",
       "      <td>5.740072</td>\n",
       "      <td>0.149197</td>\n",
       "      <td>311.086731</td>\n",
       "      <td>01:02</td>\n",
       "    </tr>\n",
       "    <tr>\n",
       "      <td>13</td>\n",
       "      <td>5.704525</td>\n",
       "      <td>5.761256</td>\n",
       "      <td>0.147786</td>\n",
       "      <td>317.747223</td>\n",
       "      <td>01:02</td>\n",
       "    </tr>\n",
       "    <tr>\n",
       "      <td>14</td>\n",
       "      <td>5.710956</td>\n",
       "      <td>5.750590</td>\n",
       "      <td>0.150119</td>\n",
       "      <td>314.376038</td>\n",
       "      <td>01:01</td>\n",
       "    </tr>\n",
       "  </tbody>\n",
       "</table>"
      ],
      "text/plain": [
       "<IPython.core.display.HTML object>"
      ]
     },
     "metadata": {},
     "output_type": "display_data"
    },
    {
     "name": "stdout",
     "output_type": "stream",
     "text": [
      "Better model found at epoch 0 with valid_loss value: 7.808226108551025.\n"
     ]
    },
    {
     "data": {
      "image/png": "[encoded data removed]",
      "text/plain": [
       "<Figure size 432x288 with 1 Axes>"
      ]
     },
     "metadata": {},
     "output_type": "display_data"
    },
    {
     "name": "stdout",
     "output_type": "stream",
     "text": [
      "Better model found at epoch 1 with valid_loss value: 6.468304634094238.\n",
      "Better model found at epoch 2 with valid_loss value: 6.219093322753906.\n",
      "Better model found at epoch 3 with valid_loss value: 6.080202102661133.\n",
      "Better model found at epoch 4 with valid_loss value: 5.965232849121094.\n",
      "Better model found at epoch 5 with valid_loss value: 5.927340507507324.\n",
      "Better model found at epoch 6 with valid_loss value: 5.854858875274658.\n",
      "Better model found at epoch 7 with valid_loss value: 5.839038372039795.\n",
      "Better model found at epoch 8 with valid_loss value: 5.797320365905762.\n",
      "Better model found at epoch 9 with valid_loss value: 5.767609596252441.\n",
      "Better model found at epoch 10 with valid_loss value: 5.758821964263916.\n",
      "Better model found at epoch 11 with valid_loss value: 5.750332355499268.\n",
      "Better model found at epoch 12 with valid_loss value: 5.740071773529053.\n"
     ]
    }
   ],
   "source": [
    "learn.fit_one_cycle(15, 0.001, wd=0.1, cbs=[\n",
    "         EarlyStoppingCallback(monitor='valid_loss', patience=3),\n",
    "         ShowGraphCallback(),\n",
    "         SaveModelCallback(fname='single_layer_rnn', at_end=True)\n",
    "         ])"
   ]
  },
  {
   "cell_type": "code",
   "execution_count": 81,
   "metadata": {
    "id": "sd3W79P4KvvP"
   },
   "outputs": [
    {
     "data": {
      "text/html": [
       "\n",
       "<style>\n",
       "    /* Turns off some styling */\n",
       "    progress {\n",
       "        /* gets rid of default border in Firefox and Opera. */\n",
       "        border: none;\n",
       "        /* Needs to be in here for Safari polyfill so background images work as expected. */\n",
       "        background-size: auto;\n",
       "    }\n",
       "    .progress-bar-interrupted, .progress-bar-interrupted::-webkit-progress-bar {\n",
       "        background: #F44336;\n",
       "    }\n",
       "</style>\n"
      ],
      "text/plain": [
       "<IPython.core.display.HTML object>"
      ]
     },
     "metadata": {},
     "output_type": "display_data"
    },
    {
     "data": {
      "text/html": [],
      "text/plain": [
       "<IPython.core.display.HTML object>"
      ]
     },
     "metadata": {},
     "output_type": "display_data"
    },
    {
     "name": "stdout",
     "output_type": "stream",
     "text": [
      "Data Validasi: Akurasi 0.1481119692325592, Perplexity 312.5715637207031\n"
     ]
    },
    {
     "data": {
      "text/html": [
       "\n",
       "<style>\n",
       "    /* Turns off some styling */\n",
       "    progress {\n",
       "        /* gets rid of default border in Firefox and Opera. */\n",
       "        border: none;\n",
       "        /* Needs to be in here for Safari polyfill so background images work as expected. */\n",
       "        background-size: auto;\n",
       "    }\n",
       "    .progress-bar-interrupted, .progress-bar-interrupted::-webkit-progress-bar {\n",
       "        background: #F44336;\n",
       "    }\n",
       "</style>\n"
      ],
      "text/plain": [
       "<IPython.core.display.HTML object>"
      ]
     },
     "metadata": {},
     "output_type": "display_data"
    },
    {
     "data": {
      "text/html": [],
      "text/plain": [
       "<IPython.core.display.HTML object>"
      ]
     },
     "metadata": {},
     "output_type": "display_data"
    },
    {
     "name": "stdout",
     "output_type": "stream",
     "text": [
      "Data Uji: Akurasi 0.1480034738779068, Perplexity 318.2174377441406\n"
     ]
    }
   ],
   "source": [
    "res = learn.validate()\n",
    "print(f\"Data Validasi: Akurasi {res[1]}, Perplexity {res[2]}\")\n",
    "# change to test data\n",
    "learn.dls.valid = dls_test.train\n",
    "res = learn.validate()\n",
    "print(f\"Data Uji: Akurasi {res[1]}, Perplexity {res[2]}\")"
   ]
  },
  {
   "cell_type": "markdown",
   "metadata": {
    "id": "EHI5zuaB5B1V"
   },
   "source": [
    "## Single Layer LSTM"
   ]
  },
  {
   "cell_type": "code",
   "execution_count": 29,
   "metadata": {
    "id": "NNYRb6SS5FUp"
   },
   "outputs": [],
   "source": [
    "class LSTMModel(Module):\n",
    "    def __init__(self, vocab_sz=len(dls.vocab), n_hidden=64, n_layers=1):\n",
    "        self.input_hidden = nn.Embedding(vocab_sz, n_hidden)\n",
    "        self.rnn = nn.LSTM(n_hidden, n_hidden, n_layers, batch_first=True)\n",
    "        self.hidden_output = nn.Linear(n_hidden, vocab_sz)\n",
    "        self.hidden = [torch.zeros(n_layers, batch_size, n_hidden,device=\"cuda:0\") for _ in range(2)]\n",
    "        \n",
    "    def forward(self, x):\n",
    "        res,h = self.rnn(self.input_hidden(x), self.hidden)\n",
    "        self.hidden = [h_.detach() for h_ in h]\n",
    "        return self.hidden_output(res)\n",
    "    \n",
    "    def reset(self): \n",
    "        for h in self.hidden: h.zero_()"
   ]
  },
  {
   "cell_type": "code",
   "execution_count": 30,
   "metadata": {
    "id": "npEYtJeg5nCY"
   },
   "outputs": [],
   "source": [
    "set_seed(42)\n",
    "learn_lstm = Learner(dls, LSTMModel(), loss_func=CrossEntropyLossFlat(), metrics=[accuracy, Perplexity()])"
   ]
  },
  {
   "cell_type": "code",
   "execution_count": 31,
   "metadata": {
    "colab": {
     "base_uri": "https://localhost:8080/"
    },
    "id": "GoTlx_5g5sOD",
    "outputId": "ac57e266-db94-4b8e-eae5-f1871d66596b"
   },
   "outputs": [
    {
     "data": {
      "text/plain": [
       "LSTMModel(\n",
       "  (input_hidden): Embedding(17440, 64)\n",
       "  (rnn): LSTM(64, 64, batch_first=True)\n",
       "  (hidden_output): Linear(in_features=64, out_features=17440, bias=True)\n",
       ")"
      ]
     },
     "execution_count": 31,
     "metadata": {},
     "output_type": "execute_result"
    }
   ],
   "source": [
    "learn_lstm.model.cuda()"
   ]
  },
  {
   "cell_type": "code",
   "execution_count": 32,
   "metadata": {
    "colab": {
     "base_uri": "https://localhost:8080/",
     "height": 306
    },
    "id": "W7UjGBaA5uKf",
    "outputId": "8c37d9c1-2829-473f-c173-b38829d7f1ba"
   },
   "outputs": [
    {
     "data": {
      "text/html": [
       "\n",
       "<style>\n",
       "    /* Turns off some styling */\n",
       "    progress {\n",
       "        /* gets rid of default border in Firefox and Opera. */\n",
       "        border: none;\n",
       "        /* Needs to be in here for Safari polyfill so background images work as expected. */\n",
       "        background-size: auto;\n",
       "    }\n",
       "    .progress-bar-interrupted, .progress-bar-interrupted::-webkit-progress-bar {\n",
       "        background: #F44336;\n",
       "    }\n",
       "</style>\n"
      ],
      "text/plain": [
       "<IPython.core.display.HTML object>"
      ]
     },
     "metadata": {},
     "output_type": "display_data"
    },
    {
     "data": {
      "text/html": [],
      "text/plain": [
       "<IPython.core.display.HTML object>"
      ]
     },
     "metadata": {},
     "output_type": "display_data"
    },
    {
     "data": {
      "text/plain": [
       "SuggestedLRs(valley=0.0006918309954926372)"
      ]
     },
     "execution_count": 32,
     "metadata": {},
     "output_type": "execute_result"
    },
    {
     "data": {
      "image/png": "[encoded data removed]",
      "text/plain": [
       "<Figure size 432x288 with 1 Axes>"
      ]
     },
     "metadata": {
      "needs_background": "light"
     },
     "output_type": "display_data"
    }
   ],
   "source": [
    "learn_lstm.lr_find()"
   ]
  },
  {
   "cell_type": "code",
   "execution_count": 34,
   "metadata": {
    "colab": {
     "base_uri": "https://localhost:8080/",
     "height": 990
    },
    "id": "_enqoF9_5wuY",
    "outputId": "c7d3420a-e6d5-43bf-e897-323430b64df3"
   },
   "outputs": [
    {
     "data": {
      "text/html": [
       "\n",
       "<style>\n",
       "    /* Turns off some styling */\n",
       "    progress {\n",
       "        /* gets rid of default border in Firefox and Opera. */\n",
       "        border: none;\n",
       "        /* Needs to be in here for Safari polyfill so background images work as expected. */\n",
       "        background-size: auto;\n",
       "    }\n",
       "    .progress-bar-interrupted, .progress-bar-interrupted::-webkit-progress-bar {\n",
       "        background: #F44336;\n",
       "    }\n",
       "</style>\n"
      ],
      "text/plain": [
       "<IPython.core.display.HTML object>"
      ]
     },
     "metadata": {},
     "output_type": "display_data"
    },
    {
     "data": {
      "text/html": [
       "<table border=\"1\" class=\"dataframe\">\n",
       "  <thead>\n",
       "    <tr style=\"text-align: left;\">\n",
       "      <th>epoch</th>\n",
       "      <th>train_loss</th>\n",
       "      <th>valid_loss</th>\n",
       "      <th>accuracy</th>\n",
       "      <th>perplexity</th>\n",
       "      <th>time</th>\n",
       "    </tr>\n",
       "  </thead>\n",
       "  <tbody>\n",
       "    <tr>\n",
       "      <td>0</td>\n",
       "      <td>8.999689</td>\n",
       "      <td>8.382392</td>\n",
       "      <td>0.038628</td>\n",
       "      <td>4369.447754</td>\n",
       "      <td>01:01</td>\n",
       "    </tr>\n",
       "    <tr>\n",
       "      <td>1</td>\n",
       "      <td>6.610837</td>\n",
       "      <td>6.499115</td>\n",
       "      <td>0.098307</td>\n",
       "      <td>664.553223</td>\n",
       "      <td>01:01</td>\n",
       "    </tr>\n",
       "    <tr>\n",
       "      <td>2</td>\n",
       "      <td>6.475093</td>\n",
       "      <td>6.375057</td>\n",
       "      <td>0.114855</td>\n",
       "      <td>587.019043</td>\n",
       "      <td>01:01</td>\n",
       "    </tr>\n",
       "    <tr>\n",
       "      <td>3</td>\n",
       "      <td>6.302496</td>\n",
       "      <td>6.232049</td>\n",
       "      <td>0.126411</td>\n",
       "      <td>508.796936</td>\n",
       "      <td>01:02</td>\n",
       "    </tr>\n",
       "    <tr>\n",
       "      <td>4</td>\n",
       "      <td>6.182224</td>\n",
       "      <td>6.142237</td>\n",
       "      <td>0.129015</td>\n",
       "      <td>465.092682</td>\n",
       "      <td>01:01</td>\n",
       "    </tr>\n",
       "    <tr>\n",
       "      <td>5</td>\n",
       "      <td>6.081946</td>\n",
       "      <td>6.037089</td>\n",
       "      <td>0.137153</td>\n",
       "      <td>418.672638</td>\n",
       "      <td>01:01</td>\n",
       "    </tr>\n",
       "    <tr>\n",
       "      <td>6</td>\n",
       "      <td>6.022507</td>\n",
       "      <td>5.981839</td>\n",
       "      <td>0.138943</td>\n",
       "      <td>396.168335</td>\n",
       "      <td>01:01</td>\n",
       "    </tr>\n",
       "    <tr>\n",
       "      <td>7</td>\n",
       "      <td>5.971418</td>\n",
       "      <td>5.945356</td>\n",
       "      <td>0.138835</td>\n",
       "      <td>381.975464</td>\n",
       "      <td>01:01</td>\n",
       "    </tr>\n",
       "    <tr>\n",
       "      <td>8</td>\n",
       "      <td>5.937289</td>\n",
       "      <td>5.910521</td>\n",
       "      <td>0.139811</td>\n",
       "      <td>368.898315</td>\n",
       "      <td>01:01</td>\n",
       "    </tr>\n",
       "    <tr>\n",
       "      <td>9</td>\n",
       "      <td>5.909872</td>\n",
       "      <td>5.909383</td>\n",
       "      <td>0.139486</td>\n",
       "      <td>368.478668</td>\n",
       "      <td>01:02</td>\n",
       "    </tr>\n",
       "    <tr>\n",
       "      <td>10</td>\n",
       "      <td>5.901102</td>\n",
       "      <td>5.908432</td>\n",
       "      <td>0.139323</td>\n",
       "      <td>368.128296</td>\n",
       "      <td>01:01</td>\n",
       "    </tr>\n",
       "    <tr>\n",
       "      <td>11</td>\n",
       "      <td>5.869002</td>\n",
       "      <td>5.876415</td>\n",
       "      <td>0.143826</td>\n",
       "      <td>356.528870</td>\n",
       "      <td>01:01</td>\n",
       "    </tr>\n",
       "    <tr>\n",
       "      <td>12</td>\n",
       "      <td>5.869088</td>\n",
       "      <td>5.871376</td>\n",
       "      <td>0.143717</td>\n",
       "      <td>354.736786</td>\n",
       "      <td>01:01</td>\n",
       "    </tr>\n",
       "    <tr>\n",
       "      <td>13</td>\n",
       "      <td>5.861666</td>\n",
       "      <td>5.867658</td>\n",
       "      <td>0.142795</td>\n",
       "      <td>353.420349</td>\n",
       "      <td>01:01</td>\n",
       "    </tr>\n",
       "    <tr>\n",
       "      <td>14</td>\n",
       "      <td>5.861836</td>\n",
       "      <td>5.881518</td>\n",
       "      <td>0.143880</td>\n",
       "      <td>358.352783</td>\n",
       "      <td>01:01</td>\n",
       "    </tr>\n",
       "  </tbody>\n",
       "</table>"
      ],
      "text/plain": [
       "<IPython.core.display.HTML object>"
      ]
     },
     "metadata": {},
     "output_type": "display_data"
    },
    {
     "name": "stdout",
     "output_type": "stream",
     "text": [
      "Better model found at epoch 0 with valid_loss value: 8.382391929626465.\n"
     ]
    },
    {
     "data": {
      "image/png": "[encoded data removed]",
      "text/plain": [
       "<Figure size 432x288 with 1 Axes>"
      ]
     },
     "metadata": {},
     "output_type": "display_data"
    },
    {
     "name": "stdout",
     "output_type": "stream",
     "text": [
      "Better model found at epoch 1 with valid_loss value: 6.499114990234375.\n",
      "Better model found at epoch 2 with valid_loss value: 6.375057220458984.\n",
      "Better model found at epoch 3 with valid_loss value: 6.232048988342285.\n",
      "Better model found at epoch 4 with valid_loss value: 6.142236709594727.\n",
      "Better model found at epoch 5 with valid_loss value: 6.0370893478393555.\n",
      "Better model found at epoch 6 with valid_loss value: 5.981839179992676.\n",
      "Better model found at epoch 7 with valid_loss value: 5.945356369018555.\n",
      "Better model found at epoch 8 with valid_loss value: 5.910521030426025.\n",
      "Better model found at epoch 9 with valid_loss value: 5.9093828201293945.\n",
      "Better model found at epoch 10 with valid_loss value: 5.908431529998779.\n",
      "Better model found at epoch 11 with valid_loss value: 5.876415252685547.\n",
      "Better model found at epoch 12 with valid_loss value: 5.871376037597656.\n",
      "Better model found at epoch 13 with valid_loss value: 5.8676581382751465.\n"
     ]
    }
   ],
   "source": [
    "learn_lstm.fit_one_cycle(15, 0.00069, wd=0.1, cbs=[\n",
    "         EarlyStoppingCallback(monitor='valid_loss', patience=3),\n",
    "         ShowGraphCallback(),\n",
    "         SaveModelCallback(fname='single_layer_lstm', at_end=True)\n",
    "         ])"
   ]
  },
  {
   "cell_type": "code",
   "execution_count": 35,
   "metadata": {
    "colab": {
     "base_uri": "https://localhost:8080/",
     "height": 34
    },
    "id": "PZoplxPYBTc5",
    "outputId": "b63641dc-1332-4f4f-b7f7-61a39b938152"
   },
   "outputs": [
    {
     "data": {
      "text/html": [
       "\n",
       "<style>\n",
       "    /* Turns off some styling */\n",
       "    progress {\n",
       "        /* gets rid of default border in Firefox and Opera. */\n",
       "        border: none;\n",
       "        /* Needs to be in here for Safari polyfill so background images work as expected. */\n",
       "        background-size: auto;\n",
       "    }\n",
       "    .progress-bar-interrupted, .progress-bar-interrupted::-webkit-progress-bar {\n",
       "        background: #F44336;\n",
       "    }\n",
       "</style>\n"
      ],
      "text/plain": [
       "<IPython.core.display.HTML object>"
      ]
     },
     "metadata": {},
     "output_type": "display_data"
    },
    {
     "data": {
      "text/html": [],
      "text/plain": [
       "<IPython.core.display.HTML object>"
      ]
     },
     "metadata": {},
     "output_type": "display_data"
    },
    {
     "name": "stdout",
     "output_type": "stream",
     "text": [
      "Data Validasi: Akurasi 0.1437174528837204, Perplexity 364.90313720703125\n"
     ]
    },
    {
     "data": {
      "text/html": [
       "\n",
       "<style>\n",
       "    /* Turns off some styling */\n",
       "    progress {\n",
       "        /* gets rid of default border in Firefox and Opera. */\n",
       "        border: none;\n",
       "        /* Needs to be in here for Safari polyfill so background images work as expected. */\n",
       "        background-size: auto;\n",
       "    }\n",
       "    .progress-bar-interrupted, .progress-bar-interrupted::-webkit-progress-bar {\n",
       "        background: #F44336;\n",
       "    }\n",
       "</style>\n"
      ],
      "text/plain": [
       "<IPython.core.display.HTML object>"
      ]
     },
     "metadata": {},
     "output_type": "display_data"
    },
    {
     "data": {
      "text/html": [],
      "text/plain": [
       "<IPython.core.display.HTML object>"
      ]
     },
     "metadata": {},
     "output_type": "display_data"
    },
    {
     "name": "stdout",
     "output_type": "stream",
     "text": [
      "Data Uji: Akurasi 0.1438802182674408, Perplexity 366.26025390625\n"
     ]
    }
   ],
   "source": [
    "res = learn_lstm.validate()\n",
    "print(f\"Data Validasi: Akurasi {res[1]}, Perplexity {res[2]}\")\n",
    "# change to test data\n",
    "learn_lstm.dls.valid = dls_test.train\n",
    "res = learn_lstm.validate()\n",
    "print(f\"Data Uji: Akurasi {res[1]}, Perplexity {res[2]}\")"
   ]
  },
  {
   "cell_type": "markdown",
   "metadata": {
    "id": "vhZTus385ytf"
   },
   "source": [
    "## Single Layer AWD-LSTM"
   ]
  },
  {
   "cell_type": "code",
   "execution_count": 37,
   "metadata": {
    "id": "WlirW5Au5yI4"
   },
   "outputs": [],
   "source": [
    "class AWDLSTMModel(Module):\n",
    "    def __init__(self, vocab_sz=len(dls.vocab), n_hidden=64, n_layers=1, p=0.5):\n",
    "        self.input_hidden = nn.Embedding(vocab_sz, n_hidden)\n",
    "        self.rnn = nn.LSTM(n_hidden, n_hidden, n_layers, batch_first=True)\n",
    "        self.drop = nn.Dropout(p)\n",
    "        self.hidden_output = nn.Linear(n_hidden, vocab_sz)\n",
    "        self.hidden_output.weight = self.input_hidden.weight\n",
    "        self.hidden = [torch.zeros(n_layers, batch_size, n_hidden,device=\"cuda:0\") for _ in range(2)]\n",
    "        \n",
    "    def forward(self, x):\n",
    "        raw,h = self.rnn(self.input_hidden(x), self.hidden)\n",
    "        out = self.drop(raw)\n",
    "        self.hidden = [h_.detach() for h_ in h]\n",
    "        return self.hidden_output(out),raw,out\n",
    "    \n",
    "    def reset(self): \n",
    "        for h in self.hidden: h.zero_()"
   ]
  },
  {
   "cell_type": "code",
   "execution_count": 41,
   "metadata": {
    "id": "w0Im15vG6jKD"
   },
   "outputs": [],
   "source": [
    "set_seed(42)\n",
    "learn_awd = TextLearner(dls, AWDLSTMModel(), loss_func=CrossEntropyLossFlat(), metrics=[accuracy, Perplexity()])"
   ]
  },
  {
   "cell_type": "code",
   "execution_count": 42,
   "metadata": {
    "colab": {
     "base_uri": "https://localhost:8080/"
    },
    "id": "wipI8omI6xra",
    "outputId": "244b5ac0-c313-4c9f-b666-2a7c3a54502c"
   },
   "outputs": [
    {
     "data": {
      "text/plain": [
       "AWDLSTMModel(\n",
       "  (input_hidden): Embedding(17440, 64)\n",
       "  (rnn): LSTM(64, 64, batch_first=True)\n",
       "  (drop): Dropout(p=0.5, inplace=False)\n",
       "  (hidden_output): Linear(in_features=64, out_features=17440, bias=True)\n",
       ")"
      ]
     },
     "execution_count": 42,
     "metadata": {},
     "output_type": "execute_result"
    }
   ],
   "source": [
    "learn_awd.model.cuda()"
   ]
  },
  {
   "cell_type": "code",
   "execution_count": 43,
   "metadata": {
    "colab": {
     "base_uri": "https://localhost:8080/",
     "height": 306
    },
    "id": "xpvWDybFM7tc",
    "outputId": "6b2244f1-b70e-487b-e606-837e6bccaa52"
   },
   "outputs": [
    {
     "data": {
      "text/html": [
       "\n",
       "<style>\n",
       "    /* Turns off some styling */\n",
       "    progress {\n",
       "        /* gets rid of default border in Firefox and Opera. */\n",
       "        border: none;\n",
       "        /* Needs to be in here for Safari polyfill so background images work as expected. */\n",
       "        background-size: auto;\n",
       "    }\n",
       "    .progress-bar-interrupted, .progress-bar-interrupted::-webkit-progress-bar {\n",
       "        background: #F44336;\n",
       "    }\n",
       "</style>\n"
      ],
      "text/plain": [
       "<IPython.core.display.HTML object>"
      ]
     },
     "metadata": {},
     "output_type": "display_data"
    },
    {
     "data": {
      "text/html": [],
      "text/plain": [
       "<IPython.core.display.HTML object>"
      ]
     },
     "metadata": {},
     "output_type": "display_data"
    },
    {
     "data": {
      "text/plain": [
       "SuggestedLRs(valley=0.004365158267319202)"
      ]
     },
     "execution_count": 43,
     "metadata": {},
     "output_type": "execute_result"
    },
    {
     "data": {
      "image/png": "[encoded data removed]",
      "text/plain": [
       "<Figure size 432x288 with 1 Axes>"
      ]
     },
     "metadata": {
      "needs_background": "light"
     },
     "output_type": "display_data"
    }
   ],
   "source": [
    "learn_awd.lr_find()"
   ]
  },
  {
   "cell_type": "code",
   "execution_count": 44,
   "metadata": {
    "colab": {
     "base_uri": "https://localhost:8080/",
     "height": 990
    },
    "id": "5RCnX-Ts7Adm",
    "outputId": "78a55438-f75f-4598-8fc9-8772b9a12bbf"
   },
   "outputs": [
    {
     "data": {
      "text/html": [
       "\n",
       "<style>\n",
       "    /* Turns off some styling */\n",
       "    progress {\n",
       "        /* gets rid of default border in Firefox and Opera. */\n",
       "        border: none;\n",
       "        /* Needs to be in here for Safari polyfill so background images work as expected. */\n",
       "        background-size: auto;\n",
       "    }\n",
       "    .progress-bar-interrupted, .progress-bar-interrupted::-webkit-progress-bar {\n",
       "        background: #F44336;\n",
       "    }\n",
       "</style>\n"
      ],
      "text/plain": [
       "<IPython.core.display.HTML object>"
      ]
     },
     "metadata": {},
     "output_type": "display_data"
    },
    {
     "data": {
      "text/html": [
       "<table border=\"1\" class=\"dataframe\">\n",
       "  <thead>\n",
       "    <tr style=\"text-align: left;\">\n",
       "      <th>epoch</th>\n",
       "      <th>train_loss</th>\n",
       "      <th>valid_loss</th>\n",
       "      <th>accuracy</th>\n",
       "      <th>perplexity</th>\n",
       "      <th>time</th>\n",
       "    </tr>\n",
       "  </thead>\n",
       "  <tbody>\n",
       "    <tr>\n",
       "      <td>0</td>\n",
       "      <td>9.075544</td>\n",
       "      <td>8.493856</td>\n",
       "      <td>0.092611</td>\n",
       "      <td>4884.666992</td>\n",
       "      <td>01:02</td>\n",
       "    </tr>\n",
       "    <tr>\n",
       "      <td>1</td>\n",
       "      <td>7.111200</td>\n",
       "      <td>6.532809</td>\n",
       "      <td>0.119032</td>\n",
       "      <td>687.326050</td>\n",
       "      <td>01:02</td>\n",
       "    </tr>\n",
       "    <tr>\n",
       "      <td>2</td>\n",
       "      <td>6.541183</td>\n",
       "      <td>6.233478</td>\n",
       "      <td>0.132270</td>\n",
       "      <td>509.524567</td>\n",
       "      <td>01:02</td>\n",
       "    </tr>\n",
       "    <tr>\n",
       "      <td>3</td>\n",
       "      <td>6.277019</td>\n",
       "      <td>6.050770</td>\n",
       "      <td>0.140516</td>\n",
       "      <td>424.439850</td>\n",
       "      <td>01:02</td>\n",
       "    </tr>\n",
       "    <tr>\n",
       "      <td>4</td>\n",
       "      <td>6.119103</td>\n",
       "      <td>5.914201</td>\n",
       "      <td>0.150933</td>\n",
       "      <td>370.258270</td>\n",
       "      <td>01:02</td>\n",
       "    </tr>\n",
       "    <tr>\n",
       "      <td>5</td>\n",
       "      <td>6.009107</td>\n",
       "      <td>5.805638</td>\n",
       "      <td>0.156033</td>\n",
       "      <td>332.167145</td>\n",
       "      <td>01:02</td>\n",
       "    </tr>\n",
       "    <tr>\n",
       "      <td>6</td>\n",
       "      <td>5.921597</td>\n",
       "      <td>5.749159</td>\n",
       "      <td>0.155870</td>\n",
       "      <td>313.926636</td>\n",
       "      <td>01:02</td>\n",
       "    </tr>\n",
       "    <tr>\n",
       "      <td>7</td>\n",
       "      <td>5.862809</td>\n",
       "      <td>5.726295</td>\n",
       "      <td>0.159831</td>\n",
       "      <td>306.830505</td>\n",
       "      <td>01:02</td>\n",
       "    </tr>\n",
       "    <tr>\n",
       "      <td>8</td>\n",
       "      <td>5.827181</td>\n",
       "      <td>5.679955</td>\n",
       "      <td>0.159125</td>\n",
       "      <td>292.936096</td>\n",
       "      <td>01:02</td>\n",
       "    </tr>\n",
       "    <tr>\n",
       "      <td>9</td>\n",
       "      <td>5.784267</td>\n",
       "      <td>5.629260</td>\n",
       "      <td>0.162977</td>\n",
       "      <td>278.455872</td>\n",
       "      <td>01:02</td>\n",
       "    </tr>\n",
       "    <tr>\n",
       "      <td>10</td>\n",
       "      <td>5.763130</td>\n",
       "      <td>5.619963</td>\n",
       "      <td>0.162652</td>\n",
       "      <td>275.879089</td>\n",
       "      <td>01:02</td>\n",
       "    </tr>\n",
       "    <tr>\n",
       "      <td>11</td>\n",
       "      <td>5.737070</td>\n",
       "      <td>5.606081</td>\n",
       "      <td>0.163140</td>\n",
       "      <td>272.075745</td>\n",
       "      <td>01:02</td>\n",
       "    </tr>\n",
       "    <tr>\n",
       "      <td>12</td>\n",
       "      <td>5.718660</td>\n",
       "      <td>5.596090</td>\n",
       "      <td>0.164822</td>\n",
       "      <td>269.371185</td>\n",
       "      <td>01:02</td>\n",
       "    </tr>\n",
       "    <tr>\n",
       "      <td>13</td>\n",
       "      <td>5.721318</td>\n",
       "      <td>5.592938</td>\n",
       "      <td>0.166233</td>\n",
       "      <td>268.523499</td>\n",
       "      <td>01:02</td>\n",
       "    </tr>\n",
       "    <tr>\n",
       "      <td>14</td>\n",
       "      <td>5.713154</td>\n",
       "      <td>5.567060</td>\n",
       "      <td>0.167969</td>\n",
       "      <td>261.663666</td>\n",
       "      <td>01:02</td>\n",
       "    </tr>\n",
       "  </tbody>\n",
       "</table>"
      ],
      "text/plain": [
       "<IPython.core.display.HTML object>"
      ]
     },
     "metadata": {},
     "output_type": "display_data"
    },
    {
     "name": "stdout",
     "output_type": "stream",
     "text": [
      "Better model found at epoch 0 with valid_loss value: 8.493856430053711.\n"
     ]
    },
    {
     "data": {
      "image/png": "[encoded data removed]",
      "text/plain": [
       "<Figure size 432x288 with 1 Axes>"
      ]
     },
     "metadata": {},
     "output_type": "display_data"
    },
    {
     "name": "stdout",
     "output_type": "stream",
     "text": [
      "Better model found at epoch 1 with valid_loss value: 6.532808780670166.\n",
      "Better model found at epoch 2 with valid_loss value: 6.23347806930542.\n",
      "Better model found at epoch 3 with valid_loss value: 6.050770282745361.\n",
      "Better model found at epoch 4 with valid_loss value: 5.914200782775879.\n",
      "Better model found at epoch 5 with valid_loss value: 5.805638313293457.\n",
      "Better model found at epoch 6 with valid_loss value: 5.749159336090088.\n",
      "Better model found at epoch 7 with valid_loss value: 5.726295471191406.\n",
      "Better model found at epoch 8 with valid_loss value: 5.679954528808594.\n",
      "Better model found at epoch 9 with valid_loss value: 5.6292595863342285.\n",
      "Better model found at epoch 10 with valid_loss value: 5.619962692260742.\n",
      "Better model found at epoch 11 with valid_loss value: 5.606080532073975.\n",
      "Better model found at epoch 12 with valid_loss value: 5.596090316772461.\n",
      "Better model found at epoch 13 with valid_loss value: 5.592938423156738.\n",
      "Better model found at epoch 14 with valid_loss value: 5.5670599937438965.\n"
     ]
    }
   ],
   "source": [
    "learn_awd.fit_one_cycle(15, 0.0043, wd=0.1, cbs=[\n",
    "         EarlyStoppingCallback(monitor='valid_loss', patience=3),\n",
    "         ShowGraphCallback(),\n",
    "         SaveModelCallback(fname='single_layer_awd', at_end=True)\n",
    "         ])"
   ]
  },
  {
   "cell_type": "code",
   "execution_count": 45,
   "metadata": {
    "colab": {
     "base_uri": "https://localhost:8080/",
     "height": 34
    },
    "id": "i-dgzcsLNOEg",
    "outputId": "67af8269-d081-4927-9815-fe793693d40a"
   },
   "outputs": [
    {
     "data": {
      "text/html": [
       "\n",
       "<style>\n",
       "    /* Turns off some styling */\n",
       "    progress {\n",
       "        /* gets rid of default border in Firefox and Opera. */\n",
       "        border: none;\n",
       "        /* Needs to be in here for Safari polyfill so background images work as expected. */\n",
       "        background-size: auto;\n",
       "    }\n",
       "    .progress-bar-interrupted, .progress-bar-interrupted::-webkit-progress-bar {\n",
       "        background: #F44336;\n",
       "    }\n",
       "</style>\n"
      ],
      "text/plain": [
       "<IPython.core.display.HTML object>"
      ]
     },
     "metadata": {},
     "output_type": "display_data"
    },
    {
     "data": {
      "text/html": [],
      "text/plain": [
       "<IPython.core.display.HTML object>"
      ]
     },
     "metadata": {},
     "output_type": "display_data"
    },
    {
     "name": "stdout",
     "output_type": "stream",
     "text": [
      "Data Validasi: Akurasi 0.167751744389534, Perplexity 263.8412170410156\n"
     ]
    },
    {
     "data": {
      "text/html": [
       "\n",
       "<style>\n",
       "    /* Turns off some styling */\n",
       "    progress {\n",
       "        /* gets rid of default border in Firefox and Opera. */\n",
       "        border: none;\n",
       "        /* Needs to be in here for Safari polyfill so background images work as expected. */\n",
       "        background-size: auto;\n",
       "    }\n",
       "    .progress-bar-interrupted, .progress-bar-interrupted::-webkit-progress-bar {\n",
       "        background: #F44336;\n",
       "    }\n",
       "</style>\n"
      ],
      "text/plain": [
       "<IPython.core.display.HTML object>"
      ]
     },
     "metadata": {},
     "output_type": "display_data"
    },
    {
     "data": {
      "text/html": [],
      "text/plain": [
       "<IPython.core.display.HTML object>"
      ]
     },
     "metadata": {},
     "output_type": "display_data"
    },
    {
     "name": "stdout",
     "output_type": "stream",
     "text": [
      "Data Uji: Akurasi 0.1672634482383728, Perplexity 261.6553039550781\n"
     ]
    }
   ],
   "source": [
    "res = learn_awd.validate()\n",
    "print(f\"Data Validasi: Akurasi {res[1]}, Perplexity {res[2]}\")\n",
    "# change to test data\n",
    "learn_awd.dls.valid = dls_test.train\n",
    "res = learn_awd.validate()\n",
    "print(f\"Data Uji: Akurasi {res[1]}, Perplexity {res[2]}\")"
   ]
  },
  {
   "cell_type": "markdown",
   "metadata": {
    "id": "8rebBXl67FkV"
   },
   "source": [
    "## Default AWD-LSTM"
   ]
  },
  {
   "cell_type": "code",
   "execution_count": 46,
   "metadata": {
    "id": "_pfKP39d7Ey6"
   },
   "outputs": [],
   "source": [
    "set_seed(42)\n",
    "learn_awd_def = language_model_learner(dls, AWD_LSTM, drop_mult=0.3, metrics=[accuracy, Perplexity()], pretrained=False)"
   ]
  },
  {
   "cell_type": "code",
   "execution_count": 47,
   "metadata": {
    "id": "59CBBjiTQZRV"
   },
   "outputs": [
    {
     "data": {
      "text/plain": [
       "SequentialRNN(\n",
       "  (0): AWD_LSTM(\n",
       "    (encoder): Embedding(17440, 400, padding_idx=1)\n",
       "    (encoder_dp): EmbeddingDropout(\n",
       "      (emb): Embedding(17440, 400, padding_idx=1)\n",
       "    )\n",
       "    (rnns): ModuleList(\n",
       "      (0): WeightDropout(\n",
       "        (module): LSTM(400, 1152, batch_first=True)\n",
       "      )\n",
       "      (1): WeightDropout(\n",
       "        (module): LSTM(1152, 1152, batch_first=True)\n",
       "      )\n",
       "      (2): WeightDropout(\n",
       "        (module): LSTM(1152, 400, batch_first=True)\n",
       "      )\n",
       "    )\n",
       "    (input_dp): RNNDropout()\n",
       "    (hidden_dps): ModuleList(\n",
       "      (0): RNNDropout()\n",
       "      (1): RNNDropout()\n",
       "      (2): RNNDropout()\n",
       "    )\n",
       "  )\n",
       "  (1): LinearDecoder(\n",
       "    (decoder): Linear(in_features=400, out_features=17440, bias=True)\n",
       "    (output_dp): RNNDropout()\n",
       "  )\n",
       ")"
      ]
     },
     "execution_count": 47,
     "metadata": {},
     "output_type": "execute_result"
    }
   ],
   "source": [
    "learn_awd_def.cuda()"
   ]
  },
  {
   "cell_type": "code",
   "execution_count": 48,
   "metadata": {
    "id": "TecLBPowQeeR"
   },
   "outputs": [
    {
     "data": {
      "text/html": [
       "\n",
       "<style>\n",
       "    /* Turns off some styling */\n",
       "    progress {\n",
       "        /* gets rid of default border in Firefox and Opera. */\n",
       "        border: none;\n",
       "        /* Needs to be in here for Safari polyfill so background images work as expected. */\n",
       "        background-size: auto;\n",
       "    }\n",
       "    .progress-bar-interrupted, .progress-bar-interrupted::-webkit-progress-bar {\n",
       "        background: #F44336;\n",
       "    }\n",
       "</style>\n"
      ],
      "text/plain": [
       "<IPython.core.display.HTML object>"
      ]
     },
     "metadata": {},
     "output_type": "display_data"
    },
    {
     "data": {
      "text/html": [],
      "text/plain": [
       "<IPython.core.display.HTML object>"
      ]
     },
     "metadata": {},
     "output_type": "display_data"
    },
    {
     "data": {
      "text/plain": [
       "SuggestedLRs(valley=0.00019054606673307717)"
      ]
     },
     "execution_count": 48,
     "metadata": {},
     "output_type": "execute_result"
    },
    {
     "data": {
      "image/png": "[encoded data removed]",
      "text/plain": [
       "<Figure size 432x288 with 1 Axes>"
      ]
     },
     "metadata": {
      "needs_background": "light"
     },
     "output_type": "display_data"
    }
   ],
   "source": [
    "learn_awd_def.lr_find()"
   ]
  },
  {
   "cell_type": "code",
   "execution_count": 49,
   "metadata": {
    "id": "HYJKxJUaQrC-"
   },
   "outputs": [
    {
     "data": {
      "text/html": [
       "\n",
       "<style>\n",
       "    /* Turns off some styling */\n",
       "    progress {\n",
       "        /* gets rid of default border in Firefox and Opera. */\n",
       "        border: none;\n",
       "        /* Needs to be in here for Safari polyfill so background images work as expected. */\n",
       "        background-size: auto;\n",
       "    }\n",
       "    .progress-bar-interrupted, .progress-bar-interrupted::-webkit-progress-bar {\n",
       "        background: #F44336;\n",
       "    }\n",
       "</style>\n"
      ],
      "text/plain": [
       "<IPython.core.display.HTML object>"
      ]
     },
     "metadata": {},
     "output_type": "display_data"
    },
    {
     "data": {
      "text/html": [
       "<table border=\"1\" class=\"dataframe\">\n",
       "  <thead>\n",
       "    <tr style=\"text-align: left;\">\n",
       "      <th>epoch</th>\n",
       "      <th>train_loss</th>\n",
       "      <th>valid_loss</th>\n",
       "      <th>accuracy</th>\n",
       "      <th>perplexity</th>\n",
       "      <th>time</th>\n",
       "    </tr>\n",
       "  </thead>\n",
       "  <tbody>\n",
       "    <tr>\n",
       "      <td>0</td>\n",
       "      <td>7.275515</td>\n",
       "      <td>6.927076</td>\n",
       "      <td>0.071940</td>\n",
       "      <td>1019.508911</td>\n",
       "      <td>01:39</td>\n",
       "    </tr>\n",
       "    <tr>\n",
       "      <td>1</td>\n",
       "      <td>6.652841</td>\n",
       "      <td>6.604255</td>\n",
       "      <td>0.070909</td>\n",
       "      <td>738.229492</td>\n",
       "      <td>01:39</td>\n",
       "    </tr>\n",
       "    <tr>\n",
       "      <td>2</td>\n",
       "      <td>6.648167</td>\n",
       "      <td>6.585809</td>\n",
       "      <td>0.072049</td>\n",
       "      <td>724.736938</td>\n",
       "      <td>01:39</td>\n",
       "    </tr>\n",
       "    <tr>\n",
       "      <td>3</td>\n",
       "      <td>6.642791</td>\n",
       "      <td>6.578172</td>\n",
       "      <td>0.071452</td>\n",
       "      <td>719.223511</td>\n",
       "      <td>01:40</td>\n",
       "    </tr>\n",
       "    <tr>\n",
       "      <td>4</td>\n",
       "      <td>6.536082</td>\n",
       "      <td>6.517642</td>\n",
       "      <td>0.092556</td>\n",
       "      <td>676.979858</td>\n",
       "      <td>01:39</td>\n",
       "    </tr>\n",
       "    <tr>\n",
       "      <td>5</td>\n",
       "      <td>6.398326</td>\n",
       "      <td>6.329387</td>\n",
       "      <td>0.118273</td>\n",
       "      <td>560.812561</td>\n",
       "      <td>01:40</td>\n",
       "    </tr>\n",
       "    <tr>\n",
       "      <td>6</td>\n",
       "      <td>6.289979</td>\n",
       "      <td>6.223843</td>\n",
       "      <td>0.125977</td>\n",
       "      <td>504.638641</td>\n",
       "      <td>01:39</td>\n",
       "    </tr>\n",
       "    <tr>\n",
       "      <td>7</td>\n",
       "      <td>6.231661</td>\n",
       "      <td>6.182824</td>\n",
       "      <td>0.132161</td>\n",
       "      <td>484.357697</td>\n",
       "      <td>01:39</td>\n",
       "    </tr>\n",
       "    <tr>\n",
       "      <td>8</td>\n",
       "      <td>6.174180</td>\n",
       "      <td>6.169163</td>\n",
       "      <td>0.131402</td>\n",
       "      <td>477.785919</td>\n",
       "      <td>01:39</td>\n",
       "    </tr>\n",
       "    <tr>\n",
       "      <td>9</td>\n",
       "      <td>6.126426</td>\n",
       "      <td>6.094153</td>\n",
       "      <td>0.131782</td>\n",
       "      <td>443.258423</td>\n",
       "      <td>01:40</td>\n",
       "    </tr>\n",
       "    <tr>\n",
       "      <td>10</td>\n",
       "      <td>6.080626</td>\n",
       "      <td>6.055996</td>\n",
       "      <td>0.136285</td>\n",
       "      <td>426.663635</td>\n",
       "      <td>01:40</td>\n",
       "    </tr>\n",
       "    <tr>\n",
       "      <td>11</td>\n",
       "      <td>6.047754</td>\n",
       "      <td>6.036830</td>\n",
       "      <td>0.136827</td>\n",
       "      <td>418.564270</td>\n",
       "      <td>01:40</td>\n",
       "    </tr>\n",
       "    <tr>\n",
       "      <td>12</td>\n",
       "      <td>6.033830</td>\n",
       "      <td>6.042077</td>\n",
       "      <td>0.134711</td>\n",
       "      <td>420.766083</td>\n",
       "      <td>01:39</td>\n",
       "    </tr>\n",
       "    <tr>\n",
       "      <td>13</td>\n",
       "      <td>6.029365</td>\n",
       "      <td>5.990572</td>\n",
       "      <td>0.139269</td>\n",
       "      <td>399.643127</td>\n",
       "      <td>01:39</td>\n",
       "    </tr>\n",
       "    <tr>\n",
       "      <td>14</td>\n",
       "      <td>6.021496</td>\n",
       "      <td>6.002282</td>\n",
       "      <td>0.138129</td>\n",
       "      <td>404.350342</td>\n",
       "      <td>01:40</td>\n",
       "    </tr>\n",
       "  </tbody>\n",
       "</table>"
      ],
      "text/plain": [
       "<IPython.core.display.HTML object>"
      ]
     },
     "metadata": {},
     "output_type": "display_data"
    },
    {
     "name": "stdout",
     "output_type": "stream",
     "text": [
      "Better model found at epoch 0 with valid_loss value: 6.92707633972168.\n"
     ]
    },
    {
     "data": {
      "image/png": "[encoded data removed]",
      "text/plain": [
       "<Figure size 432x288 with 1 Axes>"
      ]
     },
     "metadata": {},
     "output_type": "display_data"
    },
    {
     "name": "stdout",
     "output_type": "stream",
     "text": [
      "Better model found at epoch 1 with valid_loss value: 6.604254722595215.\n",
      "Better model found at epoch 2 with valid_loss value: 6.585808753967285.\n",
      "Better model found at epoch 3 with valid_loss value: 6.578172206878662.\n",
      "Better model found at epoch 4 with valid_loss value: 6.517641544342041.\n",
      "Better model found at epoch 5 with valid_loss value: 6.3293867111206055.\n",
      "Better model found at epoch 6 with valid_loss value: 6.223842620849609.\n",
      "Better model found at epoch 7 with valid_loss value: 6.182823657989502.\n",
      "Better model found at epoch 8 with valid_loss value: 6.169162750244141.\n",
      "Better model found at epoch 9 with valid_loss value: 6.094152927398682.\n",
      "Better model found at epoch 10 with valid_loss value: 6.055995941162109.\n",
      "Better model found at epoch 11 with valid_loss value: 6.036830425262451.\n",
      "Better model found at epoch 13 with valid_loss value: 5.990571975708008.\n"
     ]
    }
   ],
   "source": [
    "learn_awd_def.fit_one_cycle(15, 0.00019, wd=0.1, cbs=[\n",
    "         EarlyStoppingCallback(monitor='valid_loss', patience=3),\n",
    "         ShowGraphCallback(),\n",
    "         SaveModelCallback(fname='default_awd', at_end=True)\n",
    "         ])"
   ]
  },
  {
   "cell_type": "code",
   "execution_count": 50,
   "metadata": {
    "id": "NxpR-GsB0BXo"
   },
   "outputs": [
    {
     "data": {
      "text/html": [
       "\n",
       "<style>\n",
       "    /* Turns off some styling */\n",
       "    progress {\n",
       "        /* gets rid of default border in Firefox and Opera. */\n",
       "        border: none;\n",
       "        /* Needs to be in here for Safari polyfill so background images work as expected. */\n",
       "        background-size: auto;\n",
       "    }\n",
       "    .progress-bar-interrupted, .progress-bar-interrupted::-webkit-progress-bar {\n",
       "        background: #F44336;\n",
       "    }\n",
       "</style>\n"
      ],
      "text/plain": [
       "<IPython.core.display.HTML object>"
      ]
     },
     "metadata": {},
     "output_type": "display_data"
    },
    {
     "data": {
      "text/html": [],
      "text/plain": [
       "<IPython.core.display.HTML object>"
      ]
     },
     "metadata": {},
     "output_type": "display_data"
    },
    {
     "name": "stdout",
     "output_type": "stream",
     "text": [
      "Data Validasi: Akurasi 0.1355794370174408, Perplexity 402.08502197265625\n"
     ]
    },
    {
     "data": {
      "text/html": [
       "\n",
       "<style>\n",
       "    /* Turns off some styling */\n",
       "    progress {\n",
       "        /* gets rid of default border in Firefox and Opera. */\n",
       "        border: none;\n",
       "        /* Needs to be in here for Safari polyfill so background images work as expected. */\n",
       "        background-size: auto;\n",
       "    }\n",
       "    .progress-bar-interrupted, .progress-bar-interrupted::-webkit-progress-bar {\n",
       "        background: #F44336;\n",
       "    }\n",
       "</style>\n"
      ],
      "text/plain": [
       "<IPython.core.display.HTML object>"
      ]
     },
     "metadata": {},
     "output_type": "display_data"
    },
    {
     "data": {
      "text/html": [],
      "text/plain": [
       "<IPython.core.display.HTML object>"
      ]
     },
     "metadata": {},
     "output_type": "display_data"
    },
    {
     "name": "stdout",
     "output_type": "stream",
     "text": [
      "Data Uji: Akurasi 0.1395941823720932, Perplexity 410.86151123046875\n"
     ]
    }
   ],
   "source": [
    "res = learn_awd_def.validate()\n",
    "print(f\"Data Validasi: Akurasi {res[1]}, Perplexity {res[2]}\")\n",
    "# change to test data\n",
    "learn_awd_def.dls.valid = dls_test.train\n",
    "res = learn_awd_def.validate()\n",
    "print(f\"Data Uji: Akurasi {res[1]}, Perplexity {res[2]}\")"
   ]
  },
  {
   "cell_type": "code",
   "execution_count": 73,
   "metadata": {},
   "outputs": [
    {
     "data": {
      "text/html": [
       "\n",
       "<style>\n",
       "    /* Turns off some styling */\n",
       "    progress {\n",
       "        /* gets rid of default border in Firefox and Opera. */\n",
       "        border: none;\n",
       "        /* Needs to be in here for Safari polyfill so background images work as expected. */\n",
       "        background-size: auto;\n",
       "    }\n",
       "    .progress-bar-interrupted, .progress-bar-interrupted::-webkit-progress-bar {\n",
       "        background: #F44336;\n",
       "    }\n",
       "</style>\n"
      ],
      "text/plain": [
       "<IPython.core.display.HTML object>"
      ]
     },
     "metadata": {},
     "output_type": "display_data"
    },
    {
     "data": {
      "text/html": [
       "<table border=\"1\" class=\"dataframe\">\n",
       "  <thead>\n",
       "    <tr style=\"text-align: left;\">\n",
       "      <th>epoch</th>\n",
       "      <th>train_loss</th>\n",
       "      <th>valid_loss</th>\n",
       "      <th>accuracy</th>\n",
       "      <th>perplexity</th>\n",
       "      <th>time</th>\n",
       "    </tr>\n",
       "  </thead>\n",
       "  <tbody>\n",
       "    <tr>\n",
       "      <td>0</td>\n",
       "      <td>6.021278</td>\n",
       "      <td>5.980530</td>\n",
       "      <td>0.140679</td>\n",
       "      <td>395.650116</td>\n",
       "      <td>01:38</td>\n",
       "    </tr>\n",
       "    <tr>\n",
       "      <td>1</td>\n",
       "      <td>5.992171</td>\n",
       "      <td>5.953842</td>\n",
       "      <td>0.144206</td>\n",
       "      <td>385.230438</td>\n",
       "      <td>01:38</td>\n",
       "    </tr>\n",
       "    <tr>\n",
       "      <td>2</td>\n",
       "      <td>5.943467</td>\n",
       "      <td>5.935650</td>\n",
       "      <td>0.144640</td>\n",
       "      <td>378.285919</td>\n",
       "      <td>01:39</td>\n",
       "    </tr>\n",
       "    <tr>\n",
       "      <td>3</td>\n",
       "      <td>5.881667</td>\n",
       "      <td>5.862874</td>\n",
       "      <td>0.150499</td>\n",
       "      <td>351.733429</td>\n",
       "      <td>01:39</td>\n",
       "    </tr>\n",
       "    <tr>\n",
       "      <td>4</td>\n",
       "      <td>5.820036</td>\n",
       "      <td>5.822718</td>\n",
       "      <td>0.150716</td>\n",
       "      <td>337.889252</td>\n",
       "      <td>01:40</td>\n",
       "    </tr>\n",
       "    <tr>\n",
       "      <td>5</td>\n",
       "      <td>5.787885</td>\n",
       "      <td>5.784593</td>\n",
       "      <td>0.154785</td>\n",
       "      <td>325.249664</td>\n",
       "      <td>01:39</td>\n",
       "    </tr>\n",
       "    <tr>\n",
       "      <td>6</td>\n",
       "      <td>5.752047</td>\n",
       "      <td>5.757571</td>\n",
       "      <td>0.154460</td>\n",
       "      <td>316.578339</td>\n",
       "      <td>01:39</td>\n",
       "    </tr>\n",
       "    <tr>\n",
       "      <td>7</td>\n",
       "      <td>5.716460</td>\n",
       "      <td>5.736421</td>\n",
       "      <td>0.157010</td>\n",
       "      <td>309.952972</td>\n",
       "      <td>01:40</td>\n",
       "    </tr>\n",
       "    <tr>\n",
       "      <td>8</td>\n",
       "      <td>5.683439</td>\n",
       "      <td>5.688843</td>\n",
       "      <td>0.161024</td>\n",
       "      <td>295.551392</td>\n",
       "      <td>01:39</td>\n",
       "    </tr>\n",
       "    <tr>\n",
       "      <td>9</td>\n",
       "      <td>5.687036</td>\n",
       "      <td>5.692395</td>\n",
       "      <td>0.161404</td>\n",
       "      <td>296.603210</td>\n",
       "      <td>01:39</td>\n",
       "    </tr>\n",
       "    <tr>\n",
       "      <td>10</td>\n",
       "      <td>5.645496</td>\n",
       "      <td>5.679152</td>\n",
       "      <td>0.161947</td>\n",
       "      <td>292.701263</td>\n",
       "      <td>01:39</td>\n",
       "    </tr>\n",
       "    <tr>\n",
       "      <td>11</td>\n",
       "      <td>5.641496</td>\n",
       "      <td>5.690885</td>\n",
       "      <td>0.159668</td>\n",
       "      <td>296.155487</td>\n",
       "      <td>01:40</td>\n",
       "    </tr>\n",
       "    <tr>\n",
       "      <td>12</td>\n",
       "      <td>5.627355</td>\n",
       "      <td>5.664518</td>\n",
       "      <td>0.162869</td>\n",
       "      <td>288.449005</td>\n",
       "      <td>01:40</td>\n",
       "    </tr>\n",
       "    <tr>\n",
       "      <td>13</td>\n",
       "      <td>5.621608</td>\n",
       "      <td>5.658284</td>\n",
       "      <td>0.162001</td>\n",
       "      <td>286.656250</td>\n",
       "      <td>01:39</td>\n",
       "    </tr>\n",
       "    <tr>\n",
       "      <td>14</td>\n",
       "      <td>5.618558</td>\n",
       "      <td>5.641296</td>\n",
       "      <td>0.165690</td>\n",
       "      <td>281.827698</td>\n",
       "      <td>01:39</td>\n",
       "    </tr>\n",
       "  </tbody>\n",
       "</table>"
      ],
      "text/plain": [
       "<IPython.core.display.HTML object>"
      ]
     },
     "metadata": {},
     "output_type": "display_data"
    },
    {
     "name": "stdout",
     "output_type": "stream",
     "text": [
      "Better model found at epoch 0 with valid_loss value: 5.980530261993408.\n"
     ]
    },
    {
     "data": {
      "image/png": "[encoded data removed]",
      "text/plain": [
       "<Figure size 432x288 with 1 Axes>"
      ]
     },
     "metadata": {},
     "output_type": "display_data"
    },
    {
     "name": "stdout",
     "output_type": "stream",
     "text": [
      "Better model found at epoch 1 with valid_loss value: 5.953841686248779.\n",
      "Better model found at epoch 2 with valid_loss value: 5.93565034866333.\n",
      "Better model found at epoch 3 with valid_loss value: 5.862873554229736.\n",
      "Better model found at epoch 4 with valid_loss value: 5.822718143463135.\n",
      "Better model found at epoch 5 with valid_loss value: 5.784593105316162.\n",
      "Better model found at epoch 6 with valid_loss value: 5.757570743560791.\n",
      "Better model found at epoch 7 with valid_loss value: 5.736420631408691.\n",
      "Better model found at epoch 8 with valid_loss value: 5.6888427734375.\n",
      "Better model found at epoch 10 with valid_loss value: 5.679152488708496.\n",
      "Better model found at epoch 12 with valid_loss value: 5.664518356323242.\n",
      "Better model found at epoch 13 with valid_loss value: 5.658283710479736.\n",
      "Better model found at epoch 14 with valid_loss value: 5.641295909881592.\n"
     ]
    }
   ],
   "source": [
    "set_seed(42)\n",
    "learn_awd_def_more = language_model_learner(\n",
    "    dls, AWD_LSTM, drop_mult=0.3,\n",
    "    metrics=[accuracy, Perplexity()], pretrained=False\n",
    ")\n",
    "learn_awd_def_more.load(\"default_awd\")\n",
    "learn_awd_def_more.cuda()\n",
    "learn_awd_def_more.fit_one_cycle(15, 0.00019, wd=0.1, cbs=[\n",
    "         EarlyStoppingCallback(monitor='valid_loss', patience=3),\n",
    "         ShowGraphCallback(),\n",
    "         SaveModelCallback(fname='default_awd_30', at_end=True)\n",
    "         ])"
   ]
  },
  {
   "cell_type": "code",
   "execution_count": 74,
   "metadata": {},
   "outputs": [
    {
     "data": {
      "text/html": [
       "\n",
       "<style>\n",
       "    /* Turns off some styling */\n",
       "    progress {\n",
       "        /* gets rid of default border in Firefox and Opera. */\n",
       "        border: none;\n",
       "        /* Needs to be in here for Safari polyfill so background images work as expected. */\n",
       "        background-size: auto;\n",
       "    }\n",
       "    .progress-bar-interrupted, .progress-bar-interrupted::-webkit-progress-bar {\n",
       "        background: #F44336;\n",
       "    }\n",
       "</style>\n"
      ],
      "text/plain": [
       "<IPython.core.display.HTML object>"
      ]
     },
     "metadata": {},
     "output_type": "display_data"
    },
    {
     "data": {
      "text/html": [],
      "text/plain": [
       "<IPython.core.display.HTML object>"
      ]
     },
     "metadata": {},
     "output_type": "display_data"
    },
    {
     "name": "stdout",
     "output_type": "stream",
     "text": [
      "Data Validasi: Akurasi 0.1624349057674408, Perplexity 290.74310302734375\n"
     ]
    },
    {
     "data": {
      "text/html": [
       "\n",
       "<style>\n",
       "    /* Turns off some styling */\n",
       "    progress {\n",
       "        /* gets rid of default border in Firefox and Opera. */\n",
       "        border: none;\n",
       "        /* Needs to be in here for Safari polyfill so background images work as expected. */\n",
       "        background-size: auto;\n",
       "    }\n",
       "    .progress-bar-interrupted, .progress-bar-interrupted::-webkit-progress-bar {\n",
       "        background: #F44336;\n",
       "    }\n",
       "</style>\n"
      ],
      "text/plain": [
       "<IPython.core.display.HTML object>"
      ]
     },
     "metadata": {},
     "output_type": "display_data"
    },
    {
     "data": {
      "text/html": [],
      "text/plain": [
       "<IPython.core.display.HTML object>"
      ]
     },
     "metadata": {},
     "output_type": "display_data"
    },
    {
     "name": "stdout",
     "output_type": "stream",
     "text": [
      "Data Uji: Akurasi 0.1610243022441864, Perplexity 289.9018249511719\n"
     ]
    }
   ],
   "source": [
    "res = learn_awd_def_more.validate()\n",
    "print(f\"Data Validasi: Akurasi {res[1]}, Perplexity {res[2]}\")\n",
    "# change to test data\n",
    "learn_awd_def_more.dls.valid = dls_test.train\n",
    "res = learn_awd_def_more.validate()\n",
    "print(f\"Data Uji: Akurasi {res[1]}, Perplexity {res[2]}\")"
   ]
  },
  {
   "cell_type": "code",
   "execution_count": 72,
   "metadata": {},
   "outputs": [
    {
     "data": {
      "text/plain": [
       "True"
      ]
     },
     "execution_count": 72,
     "metadata": {},
     "output_type": "execute_result"
    }
   ],
   "source": [
    "learn_awd_def.dls.valid == dls_test.train"
   ]
  },
  {
   "cell_type": "markdown",
   "metadata": {
    "id": "zBFploQ9QwKT"
   },
   "source": [
    "## Fine-tuning Pre-trained AWD-LSTM"
   ]
  },
  {
   "cell_type": "code",
   "execution_count": 51,
   "metadata": {},
   "outputs": [
    {
     "name": "stdout",
     "output_type": "stream",
     "text": [
      "Downloading...\n",
      "From: https://drive.google.com/uc?id=1iw5v1XDy2qKjhj49nVS_xHHRlK11QJ2I\n",
      "To: /home/counter.pkl\n",
      "100%|██████████████████████████████████████| 17.2M/17.2M [00:00<00:00, 33.1MB/s]\n"
     ]
    }
   ],
   "source": [
    "!gdown 1iw5v1XDy2qKjhj49nVS_xHHRlK11QJ2I"
   ]
  },
  {
   "cell_type": "code",
   "execution_count": 52,
   "metadata": {
    "id": "oBjDMRyfsIBM"
   },
   "outputs": [],
   "source": [
    "count_vocab = pickle.load(open(\"counter.pkl\", \"rb\"))\n",
    "voc = make_vocab(count_vocab)"
   ]
  },
  {
   "cell_type": "code",
   "execution_count": 53,
   "metadata": {
    "colab": {
     "base_uri": "https://localhost:8080/",
     "height": 17
    },
    "id": "Gy7mcuUYsgUk",
    "outputId": "943580f9-9c44-42d2-eb61-d5e212af3c44"
   },
   "outputs": [
    {
     "data": {
      "text/html": [
       "\n",
       "<style>\n",
       "    /* Turns off some styling */\n",
       "    progress {\n",
       "        /* gets rid of default border in Firefox and Opera. */\n",
       "        border: none;\n",
       "        /* Needs to be in here for Safari polyfill so background images work as expected. */\n",
       "        background-size: auto;\n",
       "    }\n",
       "    .progress-bar-interrupted, .progress-bar-interrupted::-webkit-progress-bar {\n",
       "        background: #F44336;\n",
       "    }\n",
       "</style>\n"
      ],
      "text/plain": [
       "<IPython.core.display.HTML object>"
      ]
     },
     "metadata": {},
     "output_type": "display_data"
    },
    {
     "data": {
      "text/html": [],
      "text/plain": [
       "<IPython.core.display.HTML object>"
      ]
     },
     "metadata": {},
     "output_type": "display_data"
    }
   ],
   "source": [
    "set_seed(seed)\n",
    "dls_pre = TextDataLoaders.from_df(\n",
    "    df[:85000], valid_pct=0.1, seed=seed,\n",
    "    is_lm=True, seq_len=max_seq_len,\n",
    "    backwards=False, bs=batch_size, text_vocab=voc\n",
    ")"
   ]
  },
  {
   "cell_type": "code",
   "execution_count": 54,
   "metadata": {},
   "outputs": [
    {
     "data": {
      "text/html": [
       "\n",
       "<style>\n",
       "    /* Turns off some styling */\n",
       "    progress {\n",
       "        /* gets rid of default border in Firefox and Opera. */\n",
       "        border: none;\n",
       "        /* Needs to be in here for Safari polyfill so background images work as expected. */\n",
       "        background-size: auto;\n",
       "    }\n",
       "    .progress-bar-interrupted, .progress-bar-interrupted::-webkit-progress-bar {\n",
       "        background: #F44336;\n",
       "    }\n",
       "</style>\n"
      ],
      "text/plain": [
       "<IPython.core.display.HTML object>"
      ]
     },
     "metadata": {},
     "output_type": "display_data"
    },
    {
     "data": {
      "text/html": [],
      "text/plain": [
       "<IPython.core.display.HTML object>"
      ]
     },
     "metadata": {},
     "output_type": "display_data"
    }
   ],
   "source": [
    "dls_test_pre = TextDataLoaders.from_df(\n",
    "    df_test, valid_pct=0, seed=seed,\n",
    "    is_lm=True, seq_len=max_seq_len,\n",
    "    backwards=False, bs=batch_size, text_vocab=voc\n",
    ")"
   ]
  },
  {
   "cell_type": "code",
   "execution_count": 57,
   "metadata": {
    "id": "DaLmVUrXRcHs"
   },
   "outputs": [],
   "source": [
    "MODEL_PATH = \"/home/10epoch\""
   ]
  },
  {
   "cell_type": "code",
   "execution_count": 58,
   "metadata": {
    "colab": {
     "base_uri": "https://localhost:8080/"
    },
    "id": "JGTxlCQQQvrt",
    "outputId": "7169e42b-1764-483d-9227-7260ed5dd0d9"
   },
   "outputs": [
    {
     "data": {
      "text/plain": [
       "<fastai.text.learner.LMLearner at 0x7f699dd5a6d0>"
      ]
     },
     "execution_count": 58,
     "metadata": {},
     "output_type": "execute_result"
    }
   ],
   "source": [
    "set_seed(42)\n",
    "learn_awd_pre = language_model_learner(dls_pre, AWD_LSTM, drop_mult=0.3, metrics=[accuracy, Perplexity()], pretrained=False)\n",
    "learn_awd_pre.load(MODEL_PATH)"
   ]
  },
  {
   "cell_type": "code",
   "execution_count": 59,
   "metadata": {
    "colab": {
     "base_uri": "https://localhost:8080/",
     "height": 306
    },
    "id": "VS6r2ix2Riqk",
    "outputId": "fd7b80fe-074b-4b1d-8778-e3331854f3dc"
   },
   "outputs": [
    {
     "data": {
      "text/html": [
       "\n",
       "<style>\n",
       "    /* Turns off some styling */\n",
       "    progress {\n",
       "        /* gets rid of default border in Firefox and Opera. */\n",
       "        border: none;\n",
       "        /* Needs to be in here for Safari polyfill so background images work as expected. */\n",
       "        background-size: auto;\n",
       "    }\n",
       "    .progress-bar-interrupted, .progress-bar-interrupted::-webkit-progress-bar {\n",
       "        background: #F44336;\n",
       "    }\n",
       "</style>\n"
      ],
      "text/plain": [
       "<IPython.core.display.HTML object>"
      ]
     },
     "metadata": {},
     "output_type": "display_data"
    },
    {
     "data": {
      "text/html": [],
      "text/plain": [
       "<IPython.core.display.HTML object>"
      ]
     },
     "metadata": {},
     "output_type": "display_data"
    },
    {
     "data": {
      "text/plain": [
       "SuggestedLRs(valley=0.0010000000474974513)"
      ]
     },
     "execution_count": 59,
     "metadata": {},
     "output_type": "execute_result"
    },
    {
     "data": {
      "image/png": "[encoded data removed]",
      "text/plain": [
       "<Figure size 432x288 with 1 Axes>"
      ]
     },
     "metadata": {
      "needs_background": "light"
     },
     "output_type": "display_data"
    }
   ],
   "source": [
    "learn_awd_pre.lr_find()"
   ]
  },
  {
   "cell_type": "code",
   "execution_count": 60,
   "metadata": {
    "id": "S_I5F3gQRjvj"
   },
   "outputs": [
    {
     "data": {
      "text/html": [
       "\n",
       "<style>\n",
       "    /* Turns off some styling */\n",
       "    progress {\n",
       "        /* gets rid of default border in Firefox and Opera. */\n",
       "        border: none;\n",
       "        /* Needs to be in here for Safari polyfill so background images work as expected. */\n",
       "        background-size: auto;\n",
       "    }\n",
       "    .progress-bar-interrupted, .progress-bar-interrupted::-webkit-progress-bar {\n",
       "        background: #F44336;\n",
       "    }\n",
       "</style>\n"
      ],
      "text/plain": [
       "<IPython.core.display.HTML object>"
      ]
     },
     "metadata": {},
     "output_type": "display_data"
    },
    {
     "data": {
      "text/html": [
       "<table border=\"1\" class=\"dataframe\">\n",
       "  <thead>\n",
       "    <tr style=\"text-align: left;\">\n",
       "      <th>epoch</th>\n",
       "      <th>train_loss</th>\n",
       "      <th>valid_loss</th>\n",
       "      <th>accuracy</th>\n",
       "      <th>perplexity</th>\n",
       "      <th>time</th>\n",
       "    </tr>\n",
       "  </thead>\n",
       "  <tbody>\n",
       "    <tr>\n",
       "      <td>0</td>\n",
       "      <td>6.316894</td>\n",
       "      <td>6.063812</td>\n",
       "      <td>0.164304</td>\n",
       "      <td>430.011414</td>\n",
       "      <td>02:12</td>\n",
       "    </tr>\n",
       "    <tr>\n",
       "      <td>1</td>\n",
       "      <td>5.577008</td>\n",
       "      <td>5.443118</td>\n",
       "      <td>0.177203</td>\n",
       "      <td>231.161850</td>\n",
       "      <td>02:13</td>\n",
       "    </tr>\n",
       "    <tr>\n",
       "      <td>2</td>\n",
       "      <td>5.212964</td>\n",
       "      <td>5.086733</td>\n",
       "      <td>0.202124</td>\n",
       "      <td>161.860184</td>\n",
       "      <td>02:13</td>\n",
       "    </tr>\n",
       "    <tr>\n",
       "      <td>3</td>\n",
       "      <td>4.982131</td>\n",
       "      <td>4.935570</td>\n",
       "      <td>0.207161</td>\n",
       "      <td>139.152466</td>\n",
       "      <td>02:12</td>\n",
       "    </tr>\n",
       "    <tr>\n",
       "      <td>4</td>\n",
       "      <td>4.843675</td>\n",
       "      <td>4.817307</td>\n",
       "      <td>0.219406</td>\n",
       "      <td>123.631645</td>\n",
       "      <td>02:13</td>\n",
       "    </tr>\n",
       "    <tr>\n",
       "      <td>5</td>\n",
       "      <td>4.718179</td>\n",
       "      <td>4.737479</td>\n",
       "      <td>0.223618</td>\n",
       "      <td>114.146103</td>\n",
       "      <td>02:12</td>\n",
       "    </tr>\n",
       "    <tr>\n",
       "      <td>6</td>\n",
       "      <td>4.602106</td>\n",
       "      <td>4.701371</td>\n",
       "      <td>0.224006</td>\n",
       "      <td>110.097984</td>\n",
       "      <td>02:13</td>\n",
       "    </tr>\n",
       "    <tr>\n",
       "      <td>7</td>\n",
       "      <td>4.517447</td>\n",
       "      <td>4.680462</td>\n",
       "      <td>0.227920</td>\n",
       "      <td>107.819916</td>\n",
       "      <td>02:13</td>\n",
       "    </tr>\n",
       "    <tr>\n",
       "      <td>8</td>\n",
       "      <td>4.388015</td>\n",
       "      <td>4.673097</td>\n",
       "      <td>0.227591</td>\n",
       "      <td>107.028664</td>\n",
       "      <td>02:13</td>\n",
       "    </tr>\n",
       "    <tr>\n",
       "      <td>9</td>\n",
       "      <td>4.273814</td>\n",
       "      <td>4.685056</td>\n",
       "      <td>0.227852</td>\n",
       "      <td>108.316307</td>\n",
       "      <td>02:13</td>\n",
       "    </tr>\n",
       "    <tr>\n",
       "      <td>10</td>\n",
       "      <td>4.179863</td>\n",
       "      <td>4.699372</td>\n",
       "      <td>0.225343</td>\n",
       "      <td>109.878181</td>\n",
       "      <td>02:13</td>\n",
       "    </tr>\n",
       "    <tr>\n",
       "      <td>11</td>\n",
       "      <td>4.082945</td>\n",
       "      <td>4.721738</td>\n",
       "      <td>0.223714</td>\n",
       "      <td>112.363411</td>\n",
       "      <td>02:13</td>\n",
       "    </tr>\n",
       "  </tbody>\n",
       "</table>"
      ],
      "text/plain": [
       "<IPython.core.display.HTML object>"
      ]
     },
     "metadata": {},
     "output_type": "display_data"
    },
    {
     "name": "stdout",
     "output_type": "stream",
     "text": [
      "Better model found at epoch 0 with valid_loss value: 6.063811779022217.\n"
     ]
    },
    {
     "data": {
      "image/png": "[encoded data removed]",
      "text/plain": [
       "<Figure size 432x288 with 1 Axes>"
      ]
     },
     "metadata": {},
     "output_type": "display_data"
    },
    {
     "name": "stdout",
     "output_type": "stream",
     "text": [
      "Better model found at epoch 1 with valid_loss value: 5.443118095397949.\n",
      "Better model found at epoch 2 with valid_loss value: 5.086732864379883.\n",
      "Better model found at epoch 3 with valid_loss value: 4.935570240020752.\n",
      "Better model found at epoch 4 with valid_loss value: 4.8173065185546875.\n",
      "Better model found at epoch 5 with valid_loss value: 4.737479209899902.\n",
      "Better model found at epoch 6 with valid_loss value: 4.701370716094971.\n",
      "Better model found at epoch 7 with valid_loss value: 4.68046236038208.\n",
      "Better model found at epoch 8 with valid_loss value: 4.673096656799316.\n",
      "No improvement since epoch 8: early stopping\n"
     ]
    }
   ],
   "source": [
    "learn_awd_pre.fit_one_cycle(15, 0.001, wd=0.1, cbs=[\n",
    "         EarlyStoppingCallback(monitor='valid_loss', patience=3),\n",
    "         ShowGraphCallback(),\n",
    "         SaveModelCallback(fname='pre_awd', at_end=True)\n",
    "         ])"
   ]
  },
  {
   "cell_type": "code",
   "execution_count": 61,
   "metadata": {
    "colab": {
     "base_uri": "https://localhost:8080/",
     "height": 52
    },
    "id": "yzaTzb9AzkWY",
    "outputId": "653053f9-9a06-485b-a4a8-c45051144070"
   },
   "outputs": [
    {
     "data": {
      "text/html": [
       "\n",
       "<style>\n",
       "    /* Turns off some styling */\n",
       "    progress {\n",
       "        /* gets rid of default border in Firefox and Opera. */\n",
       "        border: none;\n",
       "        /* Needs to be in here for Safari polyfill so background images work as expected. */\n",
       "        background-size: auto;\n",
       "    }\n",
       "    .progress-bar-interrupted, .progress-bar-interrupted::-webkit-progress-bar {\n",
       "        background: #F44336;\n",
       "    }\n",
       "</style>\n"
      ],
      "text/plain": [
       "<IPython.core.display.HTML object>"
      ]
     },
     "metadata": {},
     "output_type": "display_data"
    },
    {
     "data": {
      "text/html": [],
      "text/plain": [
       "<IPython.core.display.HTML object>"
      ]
     },
     "metadata": {},
     "output_type": "display_data"
    },
    {
     "name": "stdout",
     "output_type": "stream",
     "text": [
      "Data Validasi: Akurasi 0.22371439635753632, Perplexity 112.36341094970703\n"
     ]
    },
    {
     "data": {
      "text/html": [
       "\n",
       "<style>\n",
       "    /* Turns off some styling */\n",
       "    progress {\n",
       "        /* gets rid of default border in Firefox and Opera. */\n",
       "        border: none;\n",
       "        /* Needs to be in here for Safari polyfill so background images work as expected. */\n",
       "        background-size: auto;\n",
       "    }\n",
       "    .progress-bar-interrupted, .progress-bar-interrupted::-webkit-progress-bar {\n",
       "        background: #F44336;\n",
       "    }\n",
       "</style>\n"
      ],
      "text/plain": [
       "<IPython.core.display.HTML object>"
      ]
     },
     "metadata": {},
     "output_type": "display_data"
    },
    {
     "data": {
      "text/html": [],
      "text/plain": [
       "<IPython.core.display.HTML object>"
      ]
     },
     "metadata": {},
     "output_type": "display_data"
    },
    {
     "name": "stdout",
     "output_type": "stream",
     "text": [
      "Data Uji: Akurasi 0.2132703959941864, Perplexity 125.62030029296875\n"
     ]
    }
   ],
   "source": [
    "res = learn_awd_pre.validate()\n",
    "print(f\"Data Validasi: Akurasi {res[1]}, Perplexity {res[2]}\")\n",
    "# change to test data\n",
    "learn_awd_pre.dls.valid = dls_test_pre.train\n",
    "res = learn_awd_pre.validate()\n",
    "print(f\"Data Uji: Akurasi {res[1]}, Perplexity {res[2]}\")"
   ]
  },
  {
   "cell_type": "markdown",
   "metadata": {
    "id": "_2l27WjXSGWo"
   },
   "source": [
    "## Inference"
   ]
  },
  {
   "cell_type": "code",
   "execution_count": 62,
   "metadata": {
    "id": "_jbgg1MDSFo6"
   },
   "outputs": [],
   "source": [
    "def generate_poem(learner, TEXT=\"Aku\", N_WORDS=40, N_SENTENCES=2):\n",
    "  preds = [learner.predict(TEXT, n_words=N_WORDS, temperature=0.75) for _ in range(N_SENTENCES)]\n",
    "  print(\"\\n\".join(preds))"
   ]
  },
  {
   "cell_type": "markdown",
   "metadata": {
    "id": "fXW6fP-4Sq-f"
   },
   "source": [
    "### AWD LSTM Default 15 Epoch"
   ]
  },
  {
   "cell_type": "code",
   "execution_count": 65,
   "metadata": {
    "id": "Eb43AztsSuTX"
   },
   "outputs": [
    {
     "data": {
      "text/html": [
       "\n",
       "<style>\n",
       "    /* Turns off some styling */\n",
       "    progress {\n",
       "        /* gets rid of default border in Firefox and Opera. */\n",
       "        border: none;\n",
       "        /* Needs to be in here for Safari polyfill so background images work as expected. */\n",
       "        background-size: auto;\n",
       "    }\n",
       "    .progress-bar-interrupted, .progress-bar-interrupted::-webkit-progress-bar {\n",
       "        background: #F44336;\n",
       "    }\n",
       "</style>\n"
      ],
      "text/plain": [
       "<IPython.core.display.HTML object>"
      ]
     },
     "metadata": {},
     "output_type": "display_data"
    },
    {
     "data": {
      "text/html": [],
      "text/plain": [
       "<IPython.core.display.HTML object>"
      ]
     },
     "metadata": {},
     "output_type": "display_data"
    },
    {
     "data": {
      "text/html": [
       "\n",
       "<style>\n",
       "    /* Turns off some styling */\n",
       "    progress {\n",
       "        /* gets rid of default border in Firefox and Opera. */\n",
       "        border: none;\n",
       "        /* Needs to be in here for Safari polyfill so background images work as expected. */\n",
       "        background-size: auto;\n",
       "    }\n",
       "    .progress-bar-interrupted, .progress-bar-interrupted::-webkit-progress-bar {\n",
       "        background: #F44336;\n",
       "    }\n",
       "</style>\n"
      ],
      "text/plain": [
       "<IPython.core.display.HTML object>"
      ]
     },
     "metadata": {},
     "output_type": "display_data"
    },
    {
     "data": {
      "text/html": [],
      "text/plain": [
       "<IPython.core.display.HTML object>"
      ]
     },
     "metadata": {},
     "output_type": "display_data"
    },
    {
     "data": {
      "text/html": [
       "\n",
       "<style>\n",
       "    /* Turns off some styling */\n",
       "    progress {\n",
       "        /* gets rid of default border in Firefox and Opera. */\n",
       "        border: none;\n",
       "        /* Needs to be in here for Safari polyfill so background images work as expected. */\n",
       "        background-size: auto;\n",
       "    }\n",
       "    .progress-bar-interrupted, .progress-bar-interrupted::-webkit-progress-bar {\n",
       "        background: #F44336;\n",
       "    }\n",
       "</style>\n"
      ],
      "text/plain": [
       "<IPython.core.display.HTML object>"
      ]
     },
     "metadata": {},
     "output_type": "display_data"
    },
    {
     "data": {
      "text/html": [],
      "text/plain": [
       "<IPython.core.display.HTML object>"
      ]
     },
     "metadata": {},
     "output_type": "display_data"
    },
    {
     "data": {
      "text/html": [
       "\n",
       "<style>\n",
       "    /* Turns off some styling */\n",
       "    progress {\n",
       "        /* gets rid of default border in Firefox and Opera. */\n",
       "        border: none;\n",
       "        /* Needs to be in here for Safari polyfill so background images work as expected. */\n",
       "        background-size: auto;\n",
       "    }\n",
       "    .progress-bar-interrupted, .progress-bar-interrupted::-webkit-progress-bar {\n",
       "        background: #F44336;\n",
       "    }\n",
       "</style>\n"
      ],
      "text/plain": [
       "<IPython.core.display.HTML object>"
      ]
     },
     "metadata": {},
     "output_type": "display_data"
    },
    {
     "data": {
      "text/html": [],
      "text/plain": [
       "<IPython.core.display.HTML object>"
      ]
     },
     "metadata": {},
     "output_type": "display_data"
    },
    {
     "data": {
      "text/html": [
       "\n",
       "<style>\n",
       "    /* Turns off some styling */\n",
       "    progress {\n",
       "        /* gets rid of default border in Firefox and Opera. */\n",
       "        border: none;\n",
       "        /* Needs to be in here for Safari polyfill so background images work as expected. */\n",
       "        background-size: auto;\n",
       "    }\n",
       "    .progress-bar-interrupted, .progress-bar-interrupted::-webkit-progress-bar {\n",
       "        background: #F44336;\n",
       "    }\n",
       "</style>\n"
      ],
      "text/plain": [
       "<IPython.core.display.HTML object>"
      ]
     },
     "metadata": {},
     "output_type": "display_data"
    },
    {
     "data": {
      "text/html": [],
      "text/plain": [
       "<IPython.core.display.HTML object>"
      ]
     },
     "metadata": {},
     "output_type": "display_data"
    },
    {
     "name": "stdout",
     "output_type": "stream",
     "text": [
      "aku hampir lebih kau bisa ada dari dia yang tak akan masih tahu cuaca meski kau adalah tenggelam . tak keluarkan lagi kita . aku adalah ditinggalkan . aku sudah tak ingin aku masih pernah terbalas , di senja\n",
      "aku meronce ada puisi yang seperti berbeda , aku telah bertemu . jika rindu ini mendung pada rindu dan tak pernah lagi takkan pernah mencintaimu , aku tak bisa membuat ganjil aku tak pernah hilang , tapi kau …\n",
      "aku mentari yang telah mencari ada payung , tak bisa kembali - bersama yang dulu . saat malam yang bisa tidur , di ingin malam yang tak semesta , tidurlah , bersama saat sebuah dirimu . aku terasa adalah\n",
      "aku air pagi tak kering itu aku yg bisa kenang , dik . meski biarkan hati , aku punya luka , tentang rindu yang tumbuh , tak harus bisa hal nan bersedih . senja hanya lagi aku akan kembali\n",
      "aku ini tidak bisa kau jatuh . dari kau pergi , kau telah ada rindu - kau , mencintaimu . pada senja malam , kita yang ranting cinta di pagi ini . di hati pergi , dalam kita ,\n"
     ]
    }
   ],
   "source": [
    "generate_poem(learn_awd_def, TEXT=\"aku\", N_WORDS=40, N_SENTENCES=5)"
   ]
  },
  {
   "cell_type": "code",
   "execution_count": 66,
   "metadata": {},
   "outputs": [
    {
     "data": {
      "text/html": [
       "\n",
       "<style>\n",
       "    /* Turns off some styling */\n",
       "    progress {\n",
       "        /* gets rid of default border in Firefox and Opera. */\n",
       "        border: none;\n",
       "        /* Needs to be in here for Safari polyfill so background images work as expected. */\n",
       "        background-size: auto;\n",
       "    }\n",
       "    .progress-bar-interrupted, .progress-bar-interrupted::-webkit-progress-bar {\n",
       "        background: #F44336;\n",
       "    }\n",
       "</style>\n"
      ],
      "text/plain": [
       "<IPython.core.display.HTML object>"
      ]
     },
     "metadata": {},
     "output_type": "display_data"
    },
    {
     "data": {
      "text/html": [],
      "text/plain": [
       "<IPython.core.display.HTML object>"
      ]
     },
     "metadata": {},
     "output_type": "display_data"
    },
    {
     "data": {
      "text/html": [
       "\n",
       "<style>\n",
       "    /* Turns off some styling */\n",
       "    progress {\n",
       "        /* gets rid of default border in Firefox and Opera. */\n",
       "        border: none;\n",
       "        /* Needs to be in here for Safari polyfill so background images work as expected. */\n",
       "        background-size: auto;\n",
       "    }\n",
       "    .progress-bar-interrupted, .progress-bar-interrupted::-webkit-progress-bar {\n",
       "        background: #F44336;\n",
       "    }\n",
       "</style>\n"
      ],
      "text/plain": [
       "<IPython.core.display.HTML object>"
      ]
     },
     "metadata": {},
     "output_type": "display_data"
    },
    {
     "data": {
      "text/html": [],
      "text/plain": [
       "<IPython.core.display.HTML object>"
      ]
     },
     "metadata": {},
     "output_type": "display_data"
    },
    {
     "data": {
      "text/html": [
       "\n",
       "<style>\n",
       "    /* Turns off some styling */\n",
       "    progress {\n",
       "        /* gets rid of default border in Firefox and Opera. */\n",
       "        border: none;\n",
       "        /* Needs to be in here for Safari polyfill so background images work as expected. */\n",
       "        background-size: auto;\n",
       "    }\n",
       "    .progress-bar-interrupted, .progress-bar-interrupted::-webkit-progress-bar {\n",
       "        background: #F44336;\n",
       "    }\n",
       "</style>\n"
      ],
      "text/plain": [
       "<IPython.core.display.HTML object>"
      ]
     },
     "metadata": {},
     "output_type": "display_data"
    },
    {
     "data": {
      "text/html": [],
      "text/plain": [
       "<IPython.core.display.HTML object>"
      ]
     },
     "metadata": {},
     "output_type": "display_data"
    },
    {
     "data": {
      "text/html": [
       "\n",
       "<style>\n",
       "    /* Turns off some styling */\n",
       "    progress {\n",
       "        /* gets rid of default border in Firefox and Opera. */\n",
       "        border: none;\n",
       "        /* Needs to be in here for Safari polyfill so background images work as expected. */\n",
       "        background-size: auto;\n",
       "    }\n",
       "    .progress-bar-interrupted, .progress-bar-interrupted::-webkit-progress-bar {\n",
       "        background: #F44336;\n",
       "    }\n",
       "</style>\n"
      ],
      "text/plain": [
       "<IPython.core.display.HTML object>"
      ]
     },
     "metadata": {},
     "output_type": "display_data"
    },
    {
     "data": {
      "text/html": [],
      "text/plain": [
       "<IPython.core.display.HTML object>"
      ]
     },
     "metadata": {},
     "output_type": "display_data"
    },
    {
     "data": {
      "text/html": [
       "\n",
       "<style>\n",
       "    /* Turns off some styling */\n",
       "    progress {\n",
       "        /* gets rid of default border in Firefox and Opera. */\n",
       "        border: none;\n",
       "        /* Needs to be in here for Safari polyfill so background images work as expected. */\n",
       "        background-size: auto;\n",
       "    }\n",
       "    .progress-bar-interrupted, .progress-bar-interrupted::-webkit-progress-bar {\n",
       "        background: #F44336;\n",
       "    }\n",
       "</style>\n"
      ],
      "text/plain": [
       "<IPython.core.display.HTML object>"
      ]
     },
     "metadata": {},
     "output_type": "display_data"
    },
    {
     "data": {
      "text/html": [],
      "text/plain": [
       "<IPython.core.display.HTML object>"
      ]
     },
     "metadata": {},
     "output_type": "display_data"
    },
    {
     "name": "stdout",
     "output_type": "stream",
     "text": [
      "senja kikis - berlarian rasa yang membawa segala hanyut yang hanya kau semakin malu . aku bisa ulang , jadilah hatimu di antara bulan yang selalu dirimu , yang kamu , batas laut . pada rindu di malam yang\n",
      "senja abu nangka memaksa itu \" malam ini , rasanya tak pernah siap untuk sayatan , tapi kau sadar di setiap kenangan yang risau . mencintaimu ; senja hanya belum sepi ; tak tak lagi bahwa aku ingin kembali\n",
      "senja bebaskan hari yang sedang kau untuk reda pada menerima setiap tentang rindu dan tak pernah jatuh . semakin aku tak pernah sempat merindu - kau tak pernah lagi saling kembali satu sunyi yang tak teduh hujan adalah kutemui\n",
      "senja kesesatan saatnya saya baitnya yang mencintaimu yang dari kau berteduh . aku tidak ada aku semakin lagi . bening ini yang kan kusentuh . aku hanya kau . di selalu ada dengan jarak . pagiku ini ,\n",
      "senja diberi kebenaran , aku ingin sengaja sajak ; mungkin begitu pikiran , aku tak nampak bagi . kau mengapa di sakit yang dan rembulan , namun seharusnya telah sajak jadi jalan yang pernah luka , suci kau datang\n"
     ]
    }
   ],
   "source": [
    "generate_poem(learn_awd_def, TEXT=\"senja\", N_WORDS=40, N_SENTENCES=5)"
   ]
  },
  {
   "cell_type": "markdown",
   "metadata": {},
   "source": [
    "### AWD LSTM Default 30 Epoch"
   ]
  },
  {
   "cell_type": "code",
   "execution_count": 75,
   "metadata": {},
   "outputs": [
    {
     "data": {
      "text/html": [
       "\n",
       "<style>\n",
       "    /* Turns off some styling */\n",
       "    progress {\n",
       "        /* gets rid of default border in Firefox and Opera. */\n",
       "        border: none;\n",
       "        /* Needs to be in here for Safari polyfill so background images work as expected. */\n",
       "        background-size: auto;\n",
       "    }\n",
       "    .progress-bar-interrupted, .progress-bar-interrupted::-webkit-progress-bar {\n",
       "        background: #F44336;\n",
       "    }\n",
       "</style>\n"
      ],
      "text/plain": [
       "<IPython.core.display.HTML object>"
      ]
     },
     "metadata": {},
     "output_type": "display_data"
    },
    {
     "data": {
      "text/html": [],
      "text/plain": [
       "<IPython.core.display.HTML object>"
      ]
     },
     "metadata": {},
     "output_type": "display_data"
    },
    {
     "data": {
      "text/html": [
       "\n",
       "<style>\n",
       "    /* Turns off some styling */\n",
       "    progress {\n",
       "        /* gets rid of default border in Firefox and Opera. */\n",
       "        border: none;\n",
       "        /* Needs to be in here for Safari polyfill so background images work as expected. */\n",
       "        background-size: auto;\n",
       "    }\n",
       "    .progress-bar-interrupted, .progress-bar-interrupted::-webkit-progress-bar {\n",
       "        background: #F44336;\n",
       "    }\n",
       "</style>\n"
      ],
      "text/plain": [
       "<IPython.core.display.HTML object>"
      ]
     },
     "metadata": {},
     "output_type": "display_data"
    },
    {
     "data": {
      "text/html": [],
      "text/plain": [
       "<IPython.core.display.HTML object>"
      ]
     },
     "metadata": {},
     "output_type": "display_data"
    },
    {
     "data": {
      "text/html": [
       "\n",
       "<style>\n",
       "    /* Turns off some styling */\n",
       "    progress {\n",
       "        /* gets rid of default border in Firefox and Opera. */\n",
       "        border: none;\n",
       "        /* Needs to be in here for Safari polyfill so background images work as expected. */\n",
       "        background-size: auto;\n",
       "    }\n",
       "    .progress-bar-interrupted, .progress-bar-interrupted::-webkit-progress-bar {\n",
       "        background: #F44336;\n",
       "    }\n",
       "</style>\n"
      ],
      "text/plain": [
       "<IPython.core.display.HTML object>"
      ]
     },
     "metadata": {},
     "output_type": "display_data"
    },
    {
     "data": {
      "text/html": [],
      "text/plain": [
       "<IPython.core.display.HTML object>"
      ]
     },
     "metadata": {},
     "output_type": "display_data"
    },
    {
     "data": {
      "text/html": [
       "\n",
       "<style>\n",
       "    /* Turns off some styling */\n",
       "    progress {\n",
       "        /* gets rid of default border in Firefox and Opera. */\n",
       "        border: none;\n",
       "        /* Needs to be in here for Safari polyfill so background images work as expected. */\n",
       "        background-size: auto;\n",
       "    }\n",
       "    .progress-bar-interrupted, .progress-bar-interrupted::-webkit-progress-bar {\n",
       "        background: #F44336;\n",
       "    }\n",
       "</style>\n"
      ],
      "text/plain": [
       "<IPython.core.display.HTML object>"
      ]
     },
     "metadata": {},
     "output_type": "display_data"
    },
    {
     "data": {
      "text/html": [],
      "text/plain": [
       "<IPython.core.display.HTML object>"
      ]
     },
     "metadata": {},
     "output_type": "display_data"
    },
    {
     "data": {
      "text/html": [
       "\n",
       "<style>\n",
       "    /* Turns off some styling */\n",
       "    progress {\n",
       "        /* gets rid of default border in Firefox and Opera. */\n",
       "        border: none;\n",
       "        /* Needs to be in here for Safari polyfill so background images work as expected. */\n",
       "        background-size: auto;\n",
       "    }\n",
       "    .progress-bar-interrupted, .progress-bar-interrupted::-webkit-progress-bar {\n",
       "        background: #F44336;\n",
       "    }\n",
       "</style>\n"
      ],
      "text/plain": [
       "<IPython.core.display.HTML object>"
      ]
     },
     "metadata": {},
     "output_type": "display_data"
    },
    {
     "data": {
      "text/html": [],
      "text/plain": [
       "<IPython.core.display.HTML object>"
      ]
     },
     "metadata": {},
     "output_type": "display_data"
    },
    {
     "name": "stdout",
     "output_type": "stream",
     "text": [
      "aku kita takkan bisa gagal , pun kau yang ada tak akan ada . bila tanpa bisu akan bisa ku lupa untuk bertemu , kamu akan mendengar kenangan bahkan tak sadar aku pun kemarau . seperti kekasih ; aku\n",
      "aku lagi apa mataku masih di sini mimpi . tapi memang kita tetaplah ? tak tahu lagi aku selalu berdoa , sebab aku tak bisa . pada langit yang tak masih kau janjikan . akan rindu yang tak ada\n",
      "aku tidak peduli kau tertawa , hanya semua yang selalu menjadi saudara yang tak lelah ditabuh . biar senja , aku telah menulis , rasanya , yang tersisa hanya sebuah cinta yang tak ingin kau datang . \" aku\n",
      "aku tak berujung lagi beritahu , ketika aku harus mengobati diri ? jika aku mengerti diri tempat ini tidak hanya untukku , saat - anak adalah kita yang tak lagi bisa bertemu . sepi , kubuka - kehilangan kembali\n",
      "aku tak pernah cukupkah genggam cinta , aku akan butuh payah . entah , jarak yang selalu kembali pergi . ku harapkan senyummu , tak entah kau yang terluka . sebab saja daya aku tak mau mencintainya , untuk\n"
     ]
    }
   ],
   "source": [
    "generate_poem(learn_awd_def_more, TEXT=\"aku\", N_WORDS=40, N_SENTENCES=5)"
   ]
  },
  {
   "cell_type": "code",
   "execution_count": 76,
   "metadata": {},
   "outputs": [
    {
     "data": {
      "text/html": [
       "\n",
       "<style>\n",
       "    /* Turns off some styling */\n",
       "    progress {\n",
       "        /* gets rid of default border in Firefox and Opera. */\n",
       "        border: none;\n",
       "        /* Needs to be in here for Safari polyfill so background images work as expected. */\n",
       "        background-size: auto;\n",
       "    }\n",
       "    .progress-bar-interrupted, .progress-bar-interrupted::-webkit-progress-bar {\n",
       "        background: #F44336;\n",
       "    }\n",
       "</style>\n"
      ],
      "text/plain": [
       "<IPython.core.display.HTML object>"
      ]
     },
     "metadata": {},
     "output_type": "display_data"
    },
    {
     "data": {
      "text/html": [],
      "text/plain": [
       "<IPython.core.display.HTML object>"
      ]
     },
     "metadata": {},
     "output_type": "display_data"
    },
    {
     "data": {
      "text/html": [
       "\n",
       "<style>\n",
       "    /* Turns off some styling */\n",
       "    progress {\n",
       "        /* gets rid of default border in Firefox and Opera. */\n",
       "        border: none;\n",
       "        /* Needs to be in here for Safari polyfill so background images work as expected. */\n",
       "        background-size: auto;\n",
       "    }\n",
       "    .progress-bar-interrupted, .progress-bar-interrupted::-webkit-progress-bar {\n",
       "        background: #F44336;\n",
       "    }\n",
       "</style>\n"
      ],
      "text/plain": [
       "<IPython.core.display.HTML object>"
      ]
     },
     "metadata": {},
     "output_type": "display_data"
    },
    {
     "data": {
      "text/html": [],
      "text/plain": [
       "<IPython.core.display.HTML object>"
      ]
     },
     "metadata": {},
     "output_type": "display_data"
    },
    {
     "data": {
      "text/html": [
       "\n",
       "<style>\n",
       "    /* Turns off some styling */\n",
       "    progress {\n",
       "        /* gets rid of default border in Firefox and Opera. */\n",
       "        border: none;\n",
       "        /* Needs to be in here for Safari polyfill so background images work as expected. */\n",
       "        background-size: auto;\n",
       "    }\n",
       "    .progress-bar-interrupted, .progress-bar-interrupted::-webkit-progress-bar {\n",
       "        background: #F44336;\n",
       "    }\n",
       "</style>\n"
      ],
      "text/plain": [
       "<IPython.core.display.HTML object>"
      ]
     },
     "metadata": {},
     "output_type": "display_data"
    },
    {
     "data": {
      "text/html": [],
      "text/plain": [
       "<IPython.core.display.HTML object>"
      ]
     },
     "metadata": {},
     "output_type": "display_data"
    },
    {
     "data": {
      "text/html": [
       "\n",
       "<style>\n",
       "    /* Turns off some styling */\n",
       "    progress {\n",
       "        /* gets rid of default border in Firefox and Opera. */\n",
       "        border: none;\n",
       "        /* Needs to be in here for Safari polyfill so background images work as expected. */\n",
       "        background-size: auto;\n",
       "    }\n",
       "    .progress-bar-interrupted, .progress-bar-interrupted::-webkit-progress-bar {\n",
       "        background: #F44336;\n",
       "    }\n",
       "</style>\n"
      ],
      "text/plain": [
       "<IPython.core.display.HTML object>"
      ]
     },
     "metadata": {},
     "output_type": "display_data"
    },
    {
     "data": {
      "text/html": [],
      "text/plain": [
       "<IPython.core.display.HTML object>"
      ]
     },
     "metadata": {},
     "output_type": "display_data"
    },
    {
     "data": {
      "text/html": [
       "\n",
       "<style>\n",
       "    /* Turns off some styling */\n",
       "    progress {\n",
       "        /* gets rid of default border in Firefox and Opera. */\n",
       "        border: none;\n",
       "        /* Needs to be in here for Safari polyfill so background images work as expected. */\n",
       "        background-size: auto;\n",
       "    }\n",
       "    .progress-bar-interrupted, .progress-bar-interrupted::-webkit-progress-bar {\n",
       "        background: #F44336;\n",
       "    }\n",
       "</style>\n"
      ],
      "text/plain": [
       "<IPython.core.display.HTML object>"
      ]
     },
     "metadata": {},
     "output_type": "display_data"
    },
    {
     "data": {
      "text/html": [],
      "text/plain": [
       "<IPython.core.display.HTML object>"
      ]
     },
     "metadata": {},
     "output_type": "display_data"
    },
    {
     "name": "stdout",
     "output_type": "stream",
     "text": [
      "senja cangkirmu , kau ; mulut tak pernah rindu patah , dan harinya dan tak mampu menafsir rindu . di langit malam ; aku tak pernah bisa berdetak dalam genggaman . di malam yang mimpi . kau adalah hati\n",
      "senja hinggap di sela jalan , barangkali tak ada kata yang sama , ia dan lusuh . waktu yang tak bisa ada dari ingatan , ketika kita tak tertahankan , aku ingin tinggal dalam kata - nya . dan\n",
      "senja ingin tak akan pernah ingin … seperti angin dan hujan yang bersinar menarik hujan , dengan aku , tapi hanya hal - disakiti . dari aroma hujan yang tak lebih ke pelukan , yang tak tahu untuk menurunkan segala\n",
      "senja , pualam yang mengusap jejak - anak harap yang tak ada lagi . kamu tak lagi lagi , sekali saja untuk . namun aku hanya dia yang tertuju dari satu - doa . tutup mata , aku di\n",
      "senja erat ini , kita katakan , di lubuk menyayat hati dan puisi , kesepian ke dalam awan , dan aku saat kita lewat , pahit - mata . hari ini sudah datang , sampai ia tanam bersama di penghujung\n"
     ]
    }
   ],
   "source": [
    "generate_poem(learn_awd_def_more, TEXT=\"senja\", N_WORDS=40, N_SENTENCES=5)"
   ]
  },
  {
   "cell_type": "markdown",
   "metadata": {
    "id": "Gt6P1ZDDSuuO"
   },
   "source": [
    "### Fine-tuned Pretrained AWD LSTM"
   ]
  },
  {
   "cell_type": "code",
   "execution_count": 67,
   "metadata": {
    "colab": {
     "base_uri": "https://localhost:8080/",
     "height": 72
    },
    "id": "sJaq08v4S540",
    "outputId": "9bf2864e-8b91-404a-edea-a9070285da7b"
   },
   "outputs": [
    {
     "data": {
      "text/html": [
       "\n",
       "<style>\n",
       "    /* Turns off some styling */\n",
       "    progress {\n",
       "        /* gets rid of default border in Firefox and Opera. */\n",
       "        border: none;\n",
       "        /* Needs to be in here for Safari polyfill so background images work as expected. */\n",
       "        background-size: auto;\n",
       "    }\n",
       "    .progress-bar-interrupted, .progress-bar-interrupted::-webkit-progress-bar {\n",
       "        background: #F44336;\n",
       "    }\n",
       "</style>\n"
      ],
      "text/plain": [
       "<IPython.core.display.HTML object>"
      ]
     },
     "metadata": {},
     "output_type": "display_data"
    },
    {
     "data": {
      "text/html": [],
      "text/plain": [
       "<IPython.core.display.HTML object>"
      ]
     },
     "metadata": {},
     "output_type": "display_data"
    },
    {
     "data": {
      "text/html": [
       "\n",
       "<style>\n",
       "    /* Turns off some styling */\n",
       "    progress {\n",
       "        /* gets rid of default border in Firefox and Opera. */\n",
       "        border: none;\n",
       "        /* Needs to be in here for Safari polyfill so background images work as expected. */\n",
       "        background-size: auto;\n",
       "    }\n",
       "    .progress-bar-interrupted, .progress-bar-interrupted::-webkit-progress-bar {\n",
       "        background: #F44336;\n",
       "    }\n",
       "</style>\n"
      ],
      "text/plain": [
       "<IPython.core.display.HTML object>"
      ]
     },
     "metadata": {},
     "output_type": "display_data"
    },
    {
     "data": {
      "text/html": [],
      "text/plain": [
       "<IPython.core.display.HTML object>"
      ]
     },
     "metadata": {},
     "output_type": "display_data"
    },
    {
     "data": {
      "text/html": [
       "\n",
       "<style>\n",
       "    /* Turns off some styling */\n",
       "    progress {\n",
       "        /* gets rid of default border in Firefox and Opera. */\n",
       "        border: none;\n",
       "        /* Needs to be in here for Safari polyfill so background images work as expected. */\n",
       "        background-size: auto;\n",
       "    }\n",
       "    .progress-bar-interrupted, .progress-bar-interrupted::-webkit-progress-bar {\n",
       "        background: #F44336;\n",
       "    }\n",
       "</style>\n"
      ],
      "text/plain": [
       "<IPython.core.display.HTML object>"
      ]
     },
     "metadata": {},
     "output_type": "display_data"
    },
    {
     "data": {
      "text/html": [],
      "text/plain": [
       "<IPython.core.display.HTML object>"
      ]
     },
     "metadata": {},
     "output_type": "display_data"
    },
    {
     "data": {
      "text/html": [
       "\n",
       "<style>\n",
       "    /* Turns off some styling */\n",
       "    progress {\n",
       "        /* gets rid of default border in Firefox and Opera. */\n",
       "        border: none;\n",
       "        /* Needs to be in here for Safari polyfill so background images work as expected. */\n",
       "        background-size: auto;\n",
       "    }\n",
       "    .progress-bar-interrupted, .progress-bar-interrupted::-webkit-progress-bar {\n",
       "        background: #F44336;\n",
       "    }\n",
       "</style>\n"
      ],
      "text/plain": [
       "<IPython.core.display.HTML object>"
      ]
     },
     "metadata": {},
     "output_type": "display_data"
    },
    {
     "data": {
      "text/html": [],
      "text/plain": [
       "<IPython.core.display.HTML object>"
      ]
     },
     "metadata": {},
     "output_type": "display_data"
    },
    {
     "data": {
      "text/html": [
       "\n",
       "<style>\n",
       "    /* Turns off some styling */\n",
       "    progress {\n",
       "        /* gets rid of default border in Firefox and Opera. */\n",
       "        border: none;\n",
       "        /* Needs to be in here for Safari polyfill so background images work as expected. */\n",
       "        background-size: auto;\n",
       "    }\n",
       "    .progress-bar-interrupted, .progress-bar-interrupted::-webkit-progress-bar {\n",
       "        background: #F44336;\n",
       "    }\n",
       "</style>\n"
      ],
      "text/plain": [
       "<IPython.core.display.HTML object>"
      ]
     },
     "metadata": {},
     "output_type": "display_data"
    },
    {
     "data": {
      "text/html": [],
      "text/plain": [
       "<IPython.core.display.HTML object>"
      ]
     },
     "metadata": {},
     "output_type": "display_data"
    },
    {
     "name": "stdout",
     "output_type": "stream",
     "text": [
      "aku tak lagi pandai melawan kecoa , sedang aku malah mati dalam riuh kebencian . cinta yang kau ucap dari segala luka , akan terhapus oleh jarak dan waktu , yang terus bertahta dalam ruang tunggu . aku sangat\n",
      "aku pergi dengan sejuta inisial yang kau dapat , lebih dulu dari apapun . aku tak pernah tau apa yang kau sebut cinta . bagiku , aku hanya orang bodoh yang mencintaimu dengan susah . hatimu yang gersang ,\n",
      "aku hanya mencintaimu tanpa jeda . hanya saja , tak ada waktu yang bisa menemani . pagi ini aku rebah , teringat dengan sang mentari , tentang kenangan yang selalu di hati ini , tapi sayang hatiku . aku\n",
      "aku hanya ingin menjadi payung , yang ingin kau pun tak bisa . tapi aku butuh waktu , untuk begitu bisa tak kering . kekasih , siang ini tak ada luka yang menyakitkan . selain hujan yang jatuh , sementara\n",
      "aku nyanyi dalam barisan puisi . tanpa rasa cinta , diam tanpa suara . tanpa kau baca , ku berbicara . aku tak lagi berani bicara , karena aku sendiri hanyalah kamu yang mungkin terjadi , atau hanya menjadi jadi\n"
     ]
    }
   ],
   "source": [
    "generate_poem(learn_awd_pre, TEXT=\"aku\", N_WORDS=40, N_SENTENCES=5)"
   ]
  },
  {
   "cell_type": "code",
   "execution_count": 68,
   "metadata": {},
   "outputs": [
    {
     "data": {
      "text/html": [
       "\n",
       "<style>\n",
       "    /* Turns off some styling */\n",
       "    progress {\n",
       "        /* gets rid of default border in Firefox and Opera. */\n",
       "        border: none;\n",
       "        /* Needs to be in here for Safari polyfill so background images work as expected. */\n",
       "        background-size: auto;\n",
       "    }\n",
       "    .progress-bar-interrupted, .progress-bar-interrupted::-webkit-progress-bar {\n",
       "        background: #F44336;\n",
       "    }\n",
       "</style>\n"
      ],
      "text/plain": [
       "<IPython.core.display.HTML object>"
      ]
     },
     "metadata": {},
     "output_type": "display_data"
    },
    {
     "data": {
      "text/html": [],
      "text/plain": [
       "<IPython.core.display.HTML object>"
      ]
     },
     "metadata": {},
     "output_type": "display_data"
    },
    {
     "data": {
      "text/html": [
       "\n",
       "<style>\n",
       "    /* Turns off some styling */\n",
       "    progress {\n",
       "        /* gets rid of default border in Firefox and Opera. */\n",
       "        border: none;\n",
       "        /* Needs to be in here for Safari polyfill so background images work as expected. */\n",
       "        background-size: auto;\n",
       "    }\n",
       "    .progress-bar-interrupted, .progress-bar-interrupted::-webkit-progress-bar {\n",
       "        background: #F44336;\n",
       "    }\n",
       "</style>\n"
      ],
      "text/plain": [
       "<IPython.core.display.HTML object>"
      ]
     },
     "metadata": {},
     "output_type": "display_data"
    },
    {
     "data": {
      "text/html": [],
      "text/plain": [
       "<IPython.core.display.HTML object>"
      ]
     },
     "metadata": {},
     "output_type": "display_data"
    },
    {
     "data": {
      "text/html": [
       "\n",
       "<style>\n",
       "    /* Turns off some styling */\n",
       "    progress {\n",
       "        /* gets rid of default border in Firefox and Opera. */\n",
       "        border: none;\n",
       "        /* Needs to be in here for Safari polyfill so background images work as expected. */\n",
       "        background-size: auto;\n",
       "    }\n",
       "    .progress-bar-interrupted, .progress-bar-interrupted::-webkit-progress-bar {\n",
       "        background: #F44336;\n",
       "    }\n",
       "</style>\n"
      ],
      "text/plain": [
       "<IPython.core.display.HTML object>"
      ]
     },
     "metadata": {},
     "output_type": "display_data"
    },
    {
     "data": {
      "text/html": [],
      "text/plain": [
       "<IPython.core.display.HTML object>"
      ]
     },
     "metadata": {},
     "output_type": "display_data"
    },
    {
     "data": {
      "text/html": [
       "\n",
       "<style>\n",
       "    /* Turns off some styling */\n",
       "    progress {\n",
       "        /* gets rid of default border in Firefox and Opera. */\n",
       "        border: none;\n",
       "        /* Needs to be in here for Safari polyfill so background images work as expected. */\n",
       "        background-size: auto;\n",
       "    }\n",
       "    .progress-bar-interrupted, .progress-bar-interrupted::-webkit-progress-bar {\n",
       "        background: #F44336;\n",
       "    }\n",
       "</style>\n"
      ],
      "text/plain": [
       "<IPython.core.display.HTML object>"
      ]
     },
     "metadata": {},
     "output_type": "display_data"
    },
    {
     "data": {
      "text/html": [],
      "text/plain": [
       "<IPython.core.display.HTML object>"
      ]
     },
     "metadata": {},
     "output_type": "display_data"
    },
    {
     "data": {
      "text/html": [
       "\n",
       "<style>\n",
       "    /* Turns off some styling */\n",
       "    progress {\n",
       "        /* gets rid of default border in Firefox and Opera. */\n",
       "        border: none;\n",
       "        /* Needs to be in here for Safari polyfill so background images work as expected. */\n",
       "        background-size: auto;\n",
       "    }\n",
       "    .progress-bar-interrupted, .progress-bar-interrupted::-webkit-progress-bar {\n",
       "        background: #F44336;\n",
       "    }\n",
       "</style>\n"
      ],
      "text/plain": [
       "<IPython.core.display.HTML object>"
      ]
     },
     "metadata": {},
     "output_type": "display_data"
    },
    {
     "data": {
      "text/html": [],
      "text/plain": [
       "<IPython.core.display.HTML object>"
      ]
     },
     "metadata": {},
     "output_type": "display_data"
    },
    {
     "name": "stdout",
     "output_type": "stream",
     "text": [
      "senja adalah hujan yang selalu menyatukan kita dengan gerimis , dan begitu juga kita . meskipun tak ada yang mampu berkisah , ada yang indah di sana , kamu .. hati yang masih terluka , dan dia yang masih selalu\n",
      "senja kali ini sungguh indah , dik , sayang . tak ada bintang yang lebih indah dari kita . tak ada yang bisa bersatu selain dunia tanpa warna . di punggung malam ; kenangan , tiada lagi rindu , yang\n",
      "senja adalah cara tuhan tuk mencari kesedihan di dalamnya engkau , agar kau berkata , \" cinta adalah cita dan dosa \" . setelah kau pergi , aku yang telah dulu hidup , di saat rindu dan luka terus mengalir\n",
      "senja datang lagi . saat aku mencari dia di sana . kau selalu ada tanpa kau tau . aku dan kamu bukan lagi milik kita . aku dan kamu saling menunggu tanpa diminta , saling memahami tanpa sengaja .\n",
      "senja di bulan oktober , dan kamu masih saja menjadi sebuah nama yang sama , entah di mana , di titik terakhir , yang hanya bisa tersisa . aku pernah berdiri di tengah yang lain , untuk di saat kau\n"
     ]
    }
   ],
   "source": [
    "generate_poem(learn_awd_pre, TEXT=\"senja\", N_WORDS=40, N_SENTENCES=5)"
   ]
  },
  {
   "cell_type": "code",
   "execution_count": null,
   "metadata": {},
   "outputs": [],
   "source": []
  }
 ],
 "metadata": {
  "accelerator": "GPU",
  "colab": {
   "collapsed_sections": [],
   "name": "neural_based.ipynb",
   "provenance": []
  },
  "kernelspec": {
   "display_name": "Python 3 (ipykernel)",
   "language": "python",
   "name": "python3"
  },
  "language_info": {
   "codemirror_mode": {
    "name": "ipython",
    "version": 3
   },
   "file_extension": ".py",
   "mimetype": "text/x-python",
   "name": "python",
   "nbconvert_exporter": "python",
   "pygments_lexer": "ipython3",
   "version": "3.8.12"
  }
 },
 "nbformat": 4,
 "nbformat_minor": 4
}

{
  "nbformat": 4,
  "nbformat_minor": 0,
  "metadata": {
    "colab": {
      "name": "n-gram_based.ipynb",
      "provenance": [],
      "collapsed_sections": []
    },
    "kernelspec": {
      "name": "python3",
      "display_name": "Python 3"
    },
    "language_info": {
      "name": "python"
    }
  },
  "cells": [
    {
      "cell_type": "markdown",
      "source": [
        "#Language Modelling : N-Gram\n",
        "by : Muhammad Faiz Abdurrahman Djauhar"
      ],
      "metadata": {
        "id": "bn6RqCUcw6d4"
      }
    },
    {
      "cell_type": "code",
      "execution_count": null,
      "metadata": {
        "id": "wfsx0hBmSI9N"
      },
      "outputs": [],
      "source": [
        "!pip install -Uqq fastbook fastai"
      ]
    },
    {
      "cell_type": "code",
      "source": [
        "from fastbook import *\n",
        "from fastai.text.all import *\n",
        "import pandas as pd\n",
        "import numpy as np\n",
        "from tqdm import tqdm\n",
        "import warnings\n",
        "warnings.filterwarnings('ignore')"
      ],
      "metadata": {
        "id": "rlnKDJn5SQCI"
      },
      "execution_count": null,
      "outputs": []
    },
    {
      "cell_type": "code",
      "source": [
        "!wget https://raw.githubusercontent.com/Wikidepia/indonesian_datasets/master/crawl/twitter-puisi/data/pelangipuisi.jsonl"
      ],
      "metadata": {
        "colab": {
          "base_uri": "https://localhost:8080/"
        },
        "id": "yV6BgBS-STil",
        "outputId": "b36efc68-a9ec-4d21-ed74-2bdbd9b53528"
      },
      "execution_count": null,
      "outputs": [
        {
          "output_type": "stream",
          "name": "stdout",
          "text": [
            "--2022-05-31 13:07:22--  https://raw.githubusercontent.com/Wikidepia/indonesian_datasets/master/crawl/twitter-puisi/data/pelangipuisi.jsonl\n",
            "Resolving raw.githubusercontent.com (raw.githubusercontent.com)... 185.199.108.133, 185.199.109.133, 185.199.110.133, ...\n",
            "Connecting to raw.githubusercontent.com (raw.githubusercontent.com)|185.199.108.133|:443... connected.\n",
            "HTTP request sent, awaiting response... 200 OK\n",
            "Length: 11389849 (11M) [text/plain]\n",
            "Saving to: ‘pelangipuisi.jsonl.7’\n",
            "\n",
            "pelangipuisi.jsonl. 100%[===================>]  10.86M  --.-KB/s    in 0.1s    \n",
            "\n",
            "2022-05-31 13:07:23 (82.7 MB/s) - ‘pelangipuisi.jsonl.7’ saved [11389849/11389849]\n",
            "\n"
          ]
        }
      ]
    },
    {
      "cell_type": "code",
      "source": [
        "!gdown 1ARRoV6vu0Q6V9wJRHtVcpHXw9A__2FWa"
      ],
      "metadata": {
        "id": "eqmUTXx1THZu",
        "outputId": "d23f5214-c111-4485-9983-c980fb2b07cb",
        "colab": {
          "base_uri": "https://localhost:8080/"
        }
      },
      "execution_count": null,
      "outputs": [
        {
          "output_type": "stream",
          "name": "stdout",
          "text": [
            "Downloading...\n",
            "From: https://drive.google.com/uc?id=1ARRoV6vu0Q6V9wJRHtVcpHXw9A__2FWa\n",
            "To: /content/vocab.json\n",
            "\r  0% 0.00/205k [00:00<?, ?B/s]\r100% 205k/205k [00:00<00:00, 79.4MB/s]\n"
          ]
        }
      ]
    },
    {
      "cell_type": "code",
      "source": [
        "def set_seed(seed):\n",
        "    random.seed(seed)\n",
        "    np.random.seed(seed)\n",
        "    torch.manual_seed(seed)\n",
        "    torch.cuda.manual_seed(seed)"
      ],
      "metadata": {
        "id": "Mvhbu4E3Smgv"
      },
      "execution_count": null,
      "outputs": []
    },
    {
      "cell_type": "markdown",
      "source": [
        "## Data Preparation"
      ],
      "metadata": {
        "id": "M9vESblOSbbz"
      }
    },
    {
      "cell_type": "code",
      "source": [
        "df = pd.read_json(path_or_buf=\"pelangipuisi.jsonl\", lines=True) # read data, convert it to dataframe\n",
        "df = df.replace(r'\\n',' ', regex=True) # replace new line into single space\n",
        "df = df.applymap(lambda s:s.lower() if type(s) == str else s) # convert all character into lower case\n",
        "df.head()"
      ],
      "metadata": {
        "colab": {
          "base_uri": "https://localhost:8080/",
          "height": 337
        },
        "id": "sf0ICiDSSaMN",
        "outputId": "ab8ae2d3-c620-4a76-9f4c-4e6c1ee4efa7"
      },
      "execution_count": null,
      "outputs": [
        {
          "output_type": "execute_result",
          "data": {
            "text/plain": [
              "                                                                                                                                                                                                                                       text\n",
              "0                                                                                                                                                                       hanya karena sapa itu. kau tikam rasamu. sisakan, bulir-bulir sedu.\n",
              "1                                                                                                                          sedang di antrian panjang pada sebuah penantian entah kapan rindu memanggil sebab ada temu yang masih tertinggal\n",
              "2                                                                                                                                    jika kau bukan tempat awal untuk berlabuh, maka kau yang terakhir  di mana aku terjatuh kemudian karam\n",
              "3                                                                 setiap waktu, aku masih mendengar getar dawai aksaramu, hingga aku terlelap dibuai bayangmu, dan setiap waktuku masih berdo'a yang sama, membelai gelombang tak lupa pula\n",
              "4  sebait rindu yang kau bacakan masih terdengar jelas dalam keresahan selembar rindu yang kau tulis di catatan masih terbaca nyata dalam kegilaan sekumpulan rindu yang kau jadikan buku bacaan masih kucetak menjadi kenangan paling edan"
            ],
            "text/html": [
              "\n",
              "  <div id=\"df-4a023bbd-d0bd-48f0-a6c2-d4d792279418\">\n",
              "    <div class=\"colab-df-container\">\n",
              "      <div>\n",
              "<style scoped>\n",
              "    .dataframe tbody tr th:only-of-type {\n",
              "        vertical-align: middle;\n",
              "    }\n",
              "\n",
              "    .dataframe tbody tr th {\n",
              "        vertical-align: top;\n",
              "    }\n",
              "\n",
              "    .dataframe thead th {\n",
              "        text-align: right;\n",
              "    }\n",
              "</style>\n",
              "<table border=\"1\" class=\"dataframe\">\n",
              "  <thead>\n",
              "    <tr style=\"text-align: right;\">\n",
              "      <th></th>\n",
              "      <th>text</th>\n",
              "    </tr>\n",
              "  </thead>\n",
              "  <tbody>\n",
              "    <tr>\n",
              "      <th>0</th>\n",
              "      <td>hanya karena sapa itu. kau tikam rasamu. sisakan, bulir-bulir sedu.</td>\n",
              "    </tr>\n",
              "    <tr>\n",
              "      <th>1</th>\n",
              "      <td>sedang di antrian panjang pada sebuah penantian entah kapan rindu memanggil sebab ada temu yang masih tertinggal</td>\n",
              "    </tr>\n",
              "    <tr>\n",
              "      <th>2</th>\n",
              "      <td>jika kau bukan tempat awal untuk berlabuh, maka kau yang terakhir  di mana aku terjatuh kemudian karam</td>\n",
              "    </tr>\n",
              "    <tr>\n",
              "      <th>3</th>\n",
              "      <td>setiap waktu, aku masih mendengar getar dawai aksaramu, hingga aku terlelap dibuai bayangmu, dan setiap waktuku masih berdo'a yang sama, membelai gelombang tak lupa pula</td>\n",
              "    </tr>\n",
              "    <tr>\n",
              "      <th>4</th>\n",
              "      <td>sebait rindu yang kau bacakan masih terdengar jelas dalam keresahan selembar rindu yang kau tulis di catatan masih terbaca nyata dalam kegilaan sekumpulan rindu yang kau jadikan buku bacaan masih kucetak menjadi kenangan paling edan</td>\n",
              "    </tr>\n",
              "  </tbody>\n",
              "</table>\n",
              "</div>\n",
              "      <button class=\"colab-df-convert\" onclick=\"convertToInteractive('df-4a023bbd-d0bd-48f0-a6c2-d4d792279418')\"\n",
              "              title=\"Convert this dataframe to an interactive table.\"\n",
              "              style=\"display:none;\">\n",
              "        \n",
              "  <svg xmlns=\"http://www.w3.org/2000/svg\" height=\"24px\"viewBox=\"0 0 24 24\"\n",
              "       width=\"24px\">\n",
              "    <path d=\"M0 0h24v24H0V0z\" fill=\"none\"/>\n",
              "    <path d=\"M18.56 5.44l.94 2.06.94-2.06 2.06-.94-2.06-.94-.94-2.06-.94 2.06-2.06.94zm-11 1L8.5 8.5l.94-2.06 2.06-.94-2.06-.94L8.5 2.5l-.94 2.06-2.06.94zm10 10l.94 2.06.94-2.06 2.06-.94-2.06-.94-.94-2.06-.94 2.06-2.06.94z\"/><path d=\"M17.41 7.96l-1.37-1.37c-.4-.4-.92-.59-1.43-.59-.52 0-1.04.2-1.43.59L10.3 9.45l-7.72 7.72c-.78.78-.78 2.05 0 2.83L4 21.41c.39.39.9.59 1.41.59.51 0 1.02-.2 1.41-.59l7.78-7.78 2.81-2.81c.8-.78.8-2.07 0-2.86zM5.41 20L4 18.59l7.72-7.72 1.47 1.35L5.41 20z\"/>\n",
              "  </svg>\n",
              "      </button>\n",
              "      \n",
              "  <style>\n",
              "    .colab-df-container {\n",
              "      display:flex;\n",
              "      flex-wrap:wrap;\n",
              "      gap: 12px;\n",
              "    }\n",
              "\n",
              "    .colab-df-convert {\n",
              "      background-color: #E8F0FE;\n",
              "      border: none;\n",
              "      border-radius: 50%;\n",
              "      cursor: pointer;\n",
              "      display: none;\n",
              "      fill: #1967D2;\n",
              "      height: 32px;\n",
              "      padding: 0 0 0 0;\n",
              "      width: 32px;\n",
              "    }\n",
              "\n",
              "    .colab-df-convert:hover {\n",
              "      background-color: #E2EBFA;\n",
              "      box-shadow: 0px 1px 2px rgba(60, 64, 67, 0.3), 0px 1px 3px 1px rgba(60, 64, 67, 0.15);\n",
              "      fill: #174EA6;\n",
              "    }\n",
              "\n",
              "    [theme=dark] .colab-df-convert {\n",
              "      background-color: #3B4455;\n",
              "      fill: #D2E3FC;\n",
              "    }\n",
              "\n",
              "    [theme=dark] .colab-df-convert:hover {\n",
              "      background-color: #434B5C;\n",
              "      box-shadow: 0px 1px 3px 1px rgba(0, 0, 0, 0.15);\n",
              "      filter: drop-shadow(0px 1px 2px rgba(0, 0, 0, 0.3));\n",
              "      fill: #FFFFFF;\n",
              "    }\n",
              "  </style>\n",
              "\n",
              "      <script>\n",
              "        const buttonEl =\n",
              "          document.querySelector('#df-4a023bbd-d0bd-48f0-a6c2-d4d792279418 button.colab-df-convert');\n",
              "        buttonEl.style.display =\n",
              "          google.colab.kernel.accessAllowed ? 'block' : 'none';\n",
              "\n",
              "        async function convertToInteractive(key) {\n",
              "          const element = document.querySelector('#df-4a023bbd-d0bd-48f0-a6c2-d4d792279418');\n",
              "          const dataTable =\n",
              "            await google.colab.kernel.invokeFunction('convertToInteractive',\n",
              "                                                     [key], {});\n",
              "          if (!dataTable) return;\n",
              "\n",
              "          const docLinkHtml = 'Like what you see? Visit the ' +\n",
              "            '<a target=\"_blank\" href=https://colab.research.google.com/notebooks/data_table.ipynb>data table notebook</a>'\n",
              "            + ' to learn more about interactive tables.';\n",
              "          element.innerHTML = '';\n",
              "          dataTable['output_type'] = 'display_data';\n",
              "          await google.colab.output.renderOutput(dataTable, element);\n",
              "          const docLink = document.createElement('div');\n",
              "          docLink.innerHTML = docLinkHtml;\n",
              "          element.appendChild(docLink);\n",
              "        }\n",
              "      </script>\n",
              "    </div>\n",
              "  </div>\n",
              "  "
            ]
          },
          "metadata": {},
          "execution_count": 460
        }
      ]
    },
    {
      "cell_type": "code",
      "source": [
        "df.info()"
      ],
      "metadata": {
        "id": "XK73HaDodWDo",
        "outputId": "662ecbd6-8bda-43d7-a3a7-4008cea4ca5a",
        "colab": {
          "base_uri": "https://localhost:8080/"
        }
      },
      "execution_count": null,
      "outputs": [
        {
          "output_type": "stream",
          "name": "stdout",
          "text": [
            "<class 'pandas.core.frame.DataFrame'>\n",
            "RangeIndex: 85794 entries, 0 to 85793\n",
            "Data columns (total 1 columns):\n",
            " #   Column  Non-Null Count  Dtype \n",
            "---  ------  --------------  ----- \n",
            " 0   text    85794 non-null  object\n",
            "dtypes: object(1)\n",
            "memory usage: 670.4+ KB\n"
          ]
        }
      ]
    },
    {
      "cell_type": "code",
      "source": [
        "df_test = df[85000:]"
      ],
      "metadata": {
        "id": "tqpypfMESdnu"
      },
      "execution_count": null,
      "outputs": []
    },
    {
      "cell_type": "code",
      "source": [
        "batch_size = 64\n",
        "max_seq_len = 72\n",
        "seed = 42\n",
        "val_sz = 0.1"
      ],
      "metadata": {
        "id": "3dCBZ_4g_eIg"
      },
      "execution_count": null,
      "outputs": []
    },
    {
      "cell_type": "code",
      "source": [
        "set_seed(42)\n",
        "dls = TextDataLoaders.from_df(df[:85000], valid_pct=val_sz, seed=seed, is_lm=True, seq_len=max_seq_len, backwards=False, bs=batch_size)"
      ],
      "metadata": {
        "colab": {
          "base_uri": "https://localhost:8080/",
          "height": 17
        },
        "id": "AQV3nlqi_f_H",
        "outputId": "0a11afc7-faf9-409f-c09e-a1b3fa15b119"
      },
      "execution_count": null,
      "outputs": [
        {
          "output_type": "display_data",
          "data": {
            "text/plain": [
              "<IPython.core.display.HTML object>"
            ],
            "text/html": [
              "\n",
              "<style>\n",
              "    /* Turns off some styling */\n",
              "    progress {\n",
              "        /* gets rid of default border in Firefox and Opera. */\n",
              "        border: none;\n",
              "        /* Needs to be in here for Safari polyfill so background images work as expected. */\n",
              "        background-size: auto;\n",
              "    }\n",
              "    .progress-bar-interrupted, .progress-bar-interrupted::-webkit-progress-bar {\n",
              "        background: #F44336;\n",
              "    }\n",
              "</style>\n"
            ]
          },
          "metadata": {}
        },
        {
          "output_type": "display_data",
          "data": {
            "text/plain": [
              "<IPython.core.display.HTML object>"
            ],
            "text/html": [
              ""
            ]
          },
          "metadata": {}
        }
      ]
    },
    {
      "cell_type": "code",
      "source": [
        "dls_test = TextDataLoaders.from_df(\n",
        "    df_test, valid_pct=0, seed=seed,\n",
        "    is_lm=True, seq_len=max_seq_len,\n",
        "    backwards=False, bs=batch_size, text_vocab=dls.vocab\n",
        ")"
      ],
      "metadata": {
        "colab": {
          "base_uri": "https://localhost:8080/",
          "height": 17
        },
        "id": "rl77qbea_hrH",
        "outputId": "18558870-3b6b-4002-dc7f-ebf9b42df753"
      },
      "execution_count": null,
      "outputs": [
        {
          "output_type": "display_data",
          "data": {
            "text/plain": [
              "<IPython.core.display.HTML object>"
            ],
            "text/html": [
              "\n",
              "<style>\n",
              "    /* Turns off some styling */\n",
              "    progress {\n",
              "        /* gets rid of default border in Firefox and Opera. */\n",
              "        border: none;\n",
              "        /* Needs to be in here for Safari polyfill so background images work as expected. */\n",
              "        background-size: auto;\n",
              "    }\n",
              "    .progress-bar-interrupted, .progress-bar-interrupted::-webkit-progress-bar {\n",
              "        background: #F44336;\n",
              "    }\n",
              "</style>\n"
            ]
          },
          "metadata": {}
        },
        {
          "output_type": "display_data",
          "data": {
            "text/plain": [
              "<IPython.core.display.HTML object>"
            ],
            "text/html": [
              ""
            ]
          },
          "metadata": {}
        }
      ]
    },
    {
      "cell_type": "code",
      "source": [
        "dls.show_batch(max_n=3)"
      ],
      "metadata": {
        "colab": {
          "base_uri": "https://localhost:8080/",
          "height": 612
        },
        "id": "6WoijTRl_lPo",
        "outputId": "284e6de9-db89-42df-fb26-218da3b50c75"
      },
      "execution_count": null,
      "outputs": [
        {
          "output_type": "display_data",
          "data": {
            "text/plain": [
              "<IPython.core.display.HTML object>"
            ],
            "text/html": [
              "<table border=\"1\" class=\"dataframe\">\n",
              "  <thead>\n",
              "    <tr style=\"text-align: right;\">\n",
              "      <th></th>\n",
              "      <th>text</th>\n",
              "      <th>text_</th>\n",
              "    </tr>\n",
              "  </thead>\n",
              "  <tbody>\n",
              "    <tr>\n",
              "      <th>0</th>\n",
              "      <td>xxbos akan ada kabar dijatuhkan burung , bukan air hujan , tapi mataku basah karenanya . xxbos xxunk , awalnya aku ragu tentang rasa yang tak pernah hilang , ternyata itu benar adanya . kamu pernah pergi , sekarang datang lagi . xxbos ketika kau tanya mengapa aku diam mengapa aku ingin sendiri mengapa aku akan menjawabnya mengapa kau selalu ada ; dalam setiap yang aku lihat … xxbos saat purnama begitu</td>\n",
              "      <td>akan ada kabar dijatuhkan burung , bukan air hujan , tapi mataku basah karenanya . xxbos xxunk , awalnya aku ragu tentang rasa yang tak pernah hilang , ternyata itu benar adanya . kamu pernah pergi , sekarang datang lagi . xxbos ketika kau tanya mengapa aku diam mengapa aku ingin sendiri mengapa aku akan menjawabnya mengapa kau selalu ada ; dalam setiap yang aku lihat … xxbos saat purnama begitu pijar</td>\n",
              "    </tr>\n",
              "    <tr>\n",
              "      <th>1</th>\n",
              "      <td>lembut nian mengusap nurani menyeka jiwa setenang maut xxbos aku bisa menukar sepi dengan secangkir kopi … tapi bagaimana dengan rindu ini ? xxbos hei xxunk kau ? aku di sini menyanyikan lagu sedu sedan untukmu , ungkapan betapa gersang dunia yang tak kau xxunk cinta … xxbos detik - detik waktu berdenting . xxunk bunga melayang jatuh membumi . pada tanah , semua makhluk pulang , berserah . kembali ; dipeluk</td>\n",
              "      <td>nian mengusap nurani menyeka jiwa setenang maut xxbos aku bisa menukar sepi dengan secangkir kopi … tapi bagaimana dengan rindu ini ? xxbos hei xxunk kau ? aku di sini menyanyikan lagu sedu sedan untukmu , ungkapan betapa gersang dunia yang tak kau xxunk cinta … xxbos detik - detik waktu berdenting . xxunk bunga melayang jatuh membumi . pada tanah , semua makhluk pulang , berserah . kembali ; dipeluk erat</td>\n",
              "    </tr>\n",
              "    <tr>\n",
              "      <th>2</th>\n",
              "      <td>yang selalu aku perjuangkan sendirian . xxbos aku akan diam , tetapi jemariku akan terus bicara , berteriak tentang keadilan yang kau bungkam . xxbos pada senyum yang sore itu merekah ; sungguh aku tak sengaja jatuh cinta . xxbos kisah lama kembali terkenang lagu lama kembali terngiang nyala lilin mulai surut padam xxbos semesta memberi isyarat , aku kepingan tulang rusukmu yang hilang . xxbos lara itu , membias tak berbekas</td>\n",
              "      <td>selalu aku perjuangkan sendirian . xxbos aku akan diam , tetapi jemariku akan terus bicara , berteriak tentang keadilan yang kau bungkam . xxbos pada senyum yang sore itu merekah ; sungguh aku tak sengaja jatuh cinta . xxbos kisah lama kembali terkenang lagu lama kembali terngiang nyala lilin mulai surut padam xxbos semesta memberi isyarat , aku kepingan tulang rusukmu yang hilang . xxbos lara itu , membias tak berbekas ,</td>\n",
              "    </tr>\n",
              "  </tbody>\n",
              "</table>"
            ]
          },
          "metadata": {}
        }
      ]
    },
    {
      "cell_type": "markdown",
      "source": [
        "Tokenize the text"
      ],
      "metadata": {
        "id": "R2w64ETFFlaO"
      }
    },
    {
      "cell_type": "code",
      "source": [
        "import nltk\n",
        "from nltk.tokenize import word_tokenize\n",
        "nltk.download('punkt')"
      ],
      "metadata": {
        "colab": {
          "base_uri": "https://localhost:8080/"
        },
        "id": "UXkAWaGOEckF",
        "outputId": "adfd4de0-55cb-4bfe-ec8f-a0f9ec06ed9a"
      },
      "execution_count": null,
      "outputs": [
        {
          "output_type": "stream",
          "name": "stderr",
          "text": [
            "[nltk_data] Downloading package punkt to /root/nltk_data...\n",
            "[nltk_data]   Package punkt is already up-to-date!\n"
          ]
        },
        {
          "output_type": "execute_result",
          "data": {
            "text/plain": [
              "True"
            ]
          },
          "metadata": {},
          "execution_count": 467
        }
      ]
    },
    {
      "cell_type": "code",
      "source": [
        "df_tokenized = df.apply(lambda row: dls.tokenizer(row['text']), axis=1)"
      ],
      "metadata": {
        "id": "zhVZpVbvEjyX"
      },
      "execution_count": null,
      "outputs": []
    },
    {
      "cell_type": "code",
      "source": [
        "df_tokenized[0]"
      ],
      "metadata": {
        "colab": {
          "base_uri": "https://localhost:8080/"
        },
        "id": "zhWsgVnQJ7ml",
        "outputId": "a82af965-97f0-4fa2-d796-52bbbff5c50c"
      },
      "execution_count": null,
      "outputs": [
        {
          "output_type": "execute_result",
          "data": {
            "text/plain": [
              "(#17) ['xxbos','hanya','karena','sapa','itu','.','kau','tikam','rasamu','.'...]"
            ]
          },
          "metadata": {},
          "execution_count": 469
        }
      ]
    },
    {
      "cell_type": "markdown",
      "source": [
        "# N-Gram"
      ],
      "metadata": {
        "id": "xPYibO61K4zQ"
      }
    },
    {
      "cell_type": "code",
      "source": [
        "def BiGram(dict, poem):\n",
        "    for i in range(len(poem)-1):\n",
        "        word = poem[i]\n",
        "        next_word  = poem[i+1]\n",
        "        if(word in dict):\n",
        "            if(next_word in dict[word]):\n",
        "                dict[word][next_word] = dict[word][next_word]+1\n",
        "            else:\n",
        "                dict[word][next_word] = 1\n",
        "        else:\n",
        "            dict[word]={next_word:1}\n",
        "    return(dict)"
      ],
      "metadata": {
        "id": "m9McO1r4LwuY"
      },
      "execution_count": null,
      "outputs": []
    },
    {
      "cell_type": "code",
      "source": [
        "def Next_word(word, dic):\n",
        "    Max = 0\n",
        "    next_word = \"\"\n",
        "    for i,j in list(dic[word].items()):\n",
        "        if(j>Max):\n",
        "            Max = j\n",
        "            next_word = i\n",
        "    return(next_word)"
      ],
      "metadata": {
        "id": "k3xe1As-L1rJ"
      },
      "execution_count": null,
      "outputs": []
    },
    {
      "cell_type": "code",
      "source": [
        "dicBi = {} # The dictionary for the BiGram model\n",
        "for i in df_tokenized: #Feed it all the poems\n",
        "    dicBi = BiGram(dicBi, i) #Build the model!"
      ],
      "metadata": {
        "id": "3-Gx1CzQLIGR"
      },
      "execution_count": null,
      "outputs": []
    },
    {
      "cell_type": "code",
      "source": [
        "prev_word = \"aku\"\n",
        "generate_str = prev_word\n",
        "for i in range(40):\n",
        "    next_word = Next_word(prev_word, dicBi)\n",
        "    prev_word = next_word\n",
        "    generate_str = generate_str +\" \"+ next_word"
      ],
      "metadata": {
        "id": "qRu1g8QBMLAu"
      },
      "execution_count": null,
      "outputs": []
    },
    {
      "cell_type": "code",
      "source": [
        "generate_str"
      ],
      "metadata": {
        "colab": {
          "base_uri": "https://localhost:8080/",
          "height": 70
        },
        "id": "zY5J7b5tP9vq",
        "outputId": "69ecffd2-bd5f-4cdd-92af-31c39835cfb6"
      },
      "execution_count": null,
      "outputs": [
        {
          "output_type": "execute_result",
          "data": {
            "text/plain": [
              "'aku tak pernah kau tak pernah kau tak pernah kau tak pernah kau tak pernah kau tak pernah kau tak pernah kau tak pernah kau tak pernah kau tak pernah kau tak pernah kau tak pernah kau tak pernah kau tak'"
            ],
            "application/vnd.google.colaboratory.intrinsic+json": {
              "type": "string"
            }
          },
          "metadata": {},
          "execution_count": 496
        }
      ]
    },
    {
      "cell_type": "code",
      "source": [
        "prev_word = \"senja\"\n",
        "generate_str2 = prev_word\n",
        "for i in range(40):\n",
        "    next_word = Next_word(prev_word, dicBi)\n",
        "    prev_word = next_word\n",
        "    generate_str2 = generate_str2 +\" \"+ next_word"
      ],
      "metadata": {
        "id": "8R-eWGouQGCC"
      },
      "execution_count": null,
      "outputs": []
    },
    {
      "cell_type": "code",
      "source": [
        "generate_str2"
      ],
      "metadata": {
        "colab": {
          "base_uri": "https://localhost:8080/",
          "height": 70
        },
        "id": "sTsYtPE9QIb-",
        "outputId": "4fb1dfc8-06ab-40cd-d949-dc9cebac081e"
      },
      "execution_count": null,
      "outputs": [
        {
          "output_type": "execute_result",
          "data": {
            "text/plain": [
              "'senja , aku tak pernah kau tak pernah kau tak pernah kau tak pernah kau tak pernah kau tak pernah kau tak pernah kau tak pernah kau tak pernah kau tak pernah kau tak pernah kau tak pernah kau tak pernah'"
            ],
            "application/vnd.google.colaboratory.intrinsic+json": {
              "type": "string"
            }
          },
          "metadata": {},
          "execution_count": 494
        }
      ]
    },
    {
      "cell_type": "markdown",
      "source": [
        "## MLE"
      ],
      "metadata": {
        "id": "PuGt43atjNzt"
      }
    },
    {
      "cell_type": "code",
      "source": [
        "!pip install -U nltk"
      ],
      "metadata": {
        "id": "20fZbNx4jYrx",
        "colab": {
          "base_uri": "https://localhost:8080/"
        },
        "outputId": "fd78b55b-9820-437b-b35d-0c4bb8981377"
      },
      "execution_count": null,
      "outputs": [
        {
          "output_type": "stream",
          "name": "stdout",
          "text": [
            "Looking in indexes: https://pypi.org/simple, https://us-python.pkg.dev/colab-wheels/public/simple/\n",
            "Requirement already satisfied: nltk in /usr/local/lib/python3.7/dist-packages (3.7)\n",
            "Requirement already satisfied: regex>=2021.8.3 in /usr/local/lib/python3.7/dist-packages (from nltk) (2022.4.24)\n",
            "Requirement already satisfied: joblib in /usr/local/lib/python3.7/dist-packages (from nltk) (1.1.0)\n",
            "Requirement already satisfied: click in /usr/local/lib/python3.7/dist-packages (from nltk) (7.1.2)\n",
            "Requirement already satisfied: tqdm in /usr/local/lib/python3.7/dist-packages (from nltk) (4.64.0)\n"
          ]
        }
      ]
    },
    {
      "cell_type": "code",
      "source": [
        "from nltk.lm import MLE\n",
        "from nltk.lm.preprocessing import padded_everygram_pipeline"
      ],
      "metadata": {
        "id": "O7Ei-tywjQSC"
      },
      "execution_count": null,
      "outputs": []
    },
    {
      "cell_type": "code",
      "source": [
        "n = 4\n",
        "train_data, padded_sents = padded_everygram_pipeline(n, df_tokenized)"
      ],
      "metadata": {
        "id": "G1hXrPC2mQfy"
      },
      "execution_count": null,
      "outputs": []
    },
    {
      "cell_type": "code",
      "source": [
        "model = MLE(n)"
      ],
      "metadata": {
        "id": "o10suLHLkgyV"
      },
      "execution_count": null,
      "outputs": []
    },
    {
      "cell_type": "code",
      "source": [
        "len(model.vocab)"
      ],
      "metadata": {
        "colab": {
          "base_uri": "https://localhost:8080/"
        },
        "id": "FF9VW79Hku9I",
        "outputId": "3047e2ce-a326-4820-f924-e8a9233061e4"
      },
      "execution_count": null,
      "outputs": [
        {
          "output_type": "execute_result",
          "data": {
            "text/plain": [
              "0"
            ]
          },
          "metadata": {},
          "execution_count": 479
        }
      ]
    },
    {
      "cell_type": "code",
      "source": [
        "model.fit(train_data, padded_sents)\n",
        "print(model.vocab)"
      ],
      "metadata": {
        "colab": {
          "base_uri": "https://localhost:8080/"
        },
        "id": "1GV2SevSnKBM",
        "outputId": "e2fd1651-8b10-49fc-e2de-a85c4b562f3b"
      },
      "execution_count": null,
      "outputs": [
        {
          "output_type": "stream",
          "name": "stdout",
          "text": [
            "<Vocabulary with cutoff=1 unk_label='<UNK>' and 41715 items>\n"
          ]
        }
      ]
    },
    {
      "cell_type": "code",
      "source": [
        "len(model.vocab)"
      ],
      "metadata": {
        "colab": {
          "base_uri": "https://localhost:8080/"
        },
        "id": "p93SKs2Jnemc",
        "outputId": "3e819a97-770a-4e26-c01a-fc28b493e67b"
      },
      "execution_count": null,
      "outputs": [
        {
          "output_type": "execute_result",
          "data": {
            "text/plain": [
              "41715"
            ]
          },
          "metadata": {},
          "execution_count": 481
        }
      ]
    },
    {
      "cell_type": "code",
      "source": [
        "print(model.vocab.lookup(df_tokenized[0]))"
      ],
      "metadata": {
        "colab": {
          "base_uri": "https://localhost:8080/"
        },
        "id": "9NFeyP-Hni-7",
        "outputId": "620fa4f5-a859-4613-f032-3accf09c7519"
      },
      "execution_count": null,
      "outputs": [
        {
          "output_type": "stream",
          "name": "stdout",
          "text": [
            "('xxbos', 'hanya', 'karena', 'sapa', 'itu', '.', 'kau', 'tikam', 'rasamu', '.', 'sisakan', ',', 'bulir', '-', 'bulir', 'sedu', '.')\n"
          ]
        }
      ]
    },
    {
      "cell_type": "code",
      "source": [
        "print(model.counts)"
      ],
      "metadata": {
        "colab": {
          "base_uri": "https://localhost:8080/"
        },
        "id": "8j9V5lxDnx-T",
        "outputId": "465a028c-061d-4c58-9b99-fda432707557"
      },
      "execution_count": null,
      "outputs": [
        {
          "output_type": "stream",
          "name": "stdout",
          "text": [
            "<NgramCounter with 4 ngram orders and 8963496 ngrams>\n"
          ]
        }
      ]
    },
    {
      "cell_type": "code",
      "source": [
        "model.counts['aku']"
      ],
      "metadata": {
        "colab": {
          "base_uri": "https://localhost:8080/"
        },
        "id": "f-fELL1cn0PF",
        "outputId": "12d5b326-b782-4a76-ad9d-36f3e0bd861e"
      },
      "execution_count": null,
      "outputs": [
        {
          "output_type": "execute_result",
          "data": {
            "text/plain": [
              "34977"
            ]
          },
          "metadata": {},
          "execution_count": 484
        }
      ]
    },
    {
      "cell_type": "code",
      "source": [
        "model.score('aku')"
      ],
      "metadata": {
        "colab": {
          "base_uri": "https://localhost:8080/"
        },
        "id": "vww459Jmo0gL",
        "outputId": "52fbe199-801d-4339-f7c4-44198a502974"
      },
      "execution_count": null,
      "outputs": [
        {
          "output_type": "execute_result",
          "data": {
            "text/plain": [
              "0.01476093713403093"
            ]
          },
          "metadata": {},
          "execution_count": 485
        }
      ]
    },
    {
      "cell_type": "code",
      "source": [
        "model.counts['senja']"
      ],
      "metadata": {
        "colab": {
          "base_uri": "https://localhost:8080/"
        },
        "id": "DcFPEMB8owSs",
        "outputId": "33eacabe-4ca8-4944-d6d2-609ec1c0e005"
      },
      "execution_count": null,
      "outputs": [
        {
          "output_type": "execute_result",
          "data": {
            "text/plain": [
              "5802"
            ]
          },
          "metadata": {},
          "execution_count": 486
        }
      ]
    },
    {
      "cell_type": "code",
      "source": [
        "model.score('senja')"
      ],
      "metadata": {
        "colab": {
          "base_uri": "https://localhost:8080/"
        },
        "id": "MBXxZ1XRo4R_",
        "outputId": "7e2f3e61-621e-443c-fde8-1196ba05c52a"
      },
      "execution_count": null,
      "outputs": [
        {
          "output_type": "execute_result",
          "data": {
            "text/plain": [
              "0.0024485506833532736"
            ]
          },
          "metadata": {},
          "execution_count": 487
        }
      ]
    },
    {
      "cell_type": "code",
      "source": [
        "print(model.generate(100, text_seed=['aku', 'dan'], random_seed=95))"
      ],
      "metadata": {
        "colab": {
          "base_uri": "https://localhost:8080/"
        },
        "id": "-RrgRLCfoGUk",
        "outputId": "6f4aab32-e888-48c4-b992-62f8a26e4c44"
      },
      "execution_count": null,
      "outputs": [
        {
          "output_type": "stream",
          "name": "stdout",
          "text": [
            "['malam', 'saling', 'berdiam', 'diri', ',', 'enggan', ',', 'membunuh', 'rindu', ',', 'membunuh', 'rindu', 'kita', '.', '</s>', '</s>', '</s>', '</s>', '</s>', '</s>', '</s>', '</s>', '</s>', '</s>', '</s>', '</s>', '</s>', '</s>', '</s>', '</s>', '</s>', '</s>', '</s>', '</s>', '</s>', '</s>', '</s>', '</s>', '</s>', '</s>', '</s>', '</s>', '</s>', '</s>', '</s>', '</s>', '</s>', '</s>', '</s>', '</s>', '</s>', '</s>', '</s>', '</s>', '</s>', '</s>', '</s>', '</s>', '</s>', '</s>', '</s>', '</s>', '</s>', '</s>', '</s>', '</s>', '</s>', '</s>', '</s>', '</s>', '</s>', '</s>', '</s>', '</s>', '</s>', '</s>', '</s>', '</s>', '</s>', '</s>', '</s>', '</s>', '</s>', '</s>', '</s>', '</s>', '</s>', '</s>', '</s>', '</s>', '</s>', '</s>', '</s>', '</s>', '</s>', '</s>', '</s>', '</s>', '</s>', '</s>']\n"
          ]
        }
      ]
    },
    {
      "cell_type": "code",
      "source": [
        "from nltk.tokenize.treebank import TreebankWordDetokenizer\n",
        "\n",
        "detokenize = TreebankWordDetokenizer().detokenize\n",
        "\n",
        "def generate_sent(model, num_words, text_seeda, npoem):\n",
        "    \n",
        "    \n",
        "    poems = []\n",
        "    for i in range(npoem):\n",
        "      content = []\n",
        "      content.append(text_seeda)\n",
        "      for token in model.generate(num_words, text_seed=[text_seeda], random_seed=(i+5)):\n",
        "          if token == '</s>':\n",
        "              break\n",
        "          content.append(token)\n",
        "      poems.append(detokenize(content))\n",
        "    return poems"
      ],
      "metadata": {
        "id": "RBeY-M3_oWKd"
      },
      "execution_count": null,
      "outputs": []
    },
    {
      "cell_type": "code",
      "source": [
        "generate_sent(model,40,'aku', 5)"
      ],
      "metadata": {
        "colab": {
          "base_uri": "https://localhost:8080/"
        },
        "id": "w93hPl8ooS3B",
        "outputId": "7f475e59-1071-40d1-d0ee-a159c6f4ec88"
      },
      "execution_count": null,
      "outputs": [
        {
          "output_type": "execute_result",
          "data": {
            "text/plain": [
              "['aku merindukanmu kala terbangun dari tidurku yang kudapat adalah sapamu ijinkan aku mengenangmu pada dekap hangat tubuh atau rengkuh tanganmu barangkali merelakanmu pergi adalah sebaik - baik air yang membasuh dosa dan khilaf, maka memaafkan adalah sebaik - baiknya usaha',\n",
              " 'aku tahu kita bukan hikayat rama sinta tapi setidaknya jangan buat aku tambah tidak bergeming . karena aku tahu sejak awal, perihal dirimu beresonansi tanpa tanya, koma, atau pun datang menuju tepi tepat di pesisir kerinduan.',\n",
              " 'aku ialah daun jatuh . yang tak berdaya membabibuta mencintaimu . apa yang kau suka, duduklah kita akan berbincang lagi tentang riuh dan gemuruh rindu di dadanya yang kering.',\n",
              " 'aku dapat tertawa bersamamu.',\n",
              " 'aku masih juga di situ, duduk anggun mendiami sudut hatiku jangan panik apalagi gagu karena rinduku, tidak terburu - buru pergi: mengayuh nyeri sambil sesekali melihat arloji yang berputar ke kiri kudapati senyummu yang kembali aku tak ingin']"
            ]
          },
          "metadata": {},
          "execution_count": 498
        }
      ]
    },
    {
      "cell_type": "code",
      "source": [
        "generate_sent(model,40,'senja', 5)"
      ],
      "metadata": {
        "colab": {
          "base_uri": "https://localhost:8080/"
        },
        "id": "oWXSBwTyU5AZ",
        "outputId": "835d1dd7-5eb6-4254-af38-93567a11c2cf"
      },
      "execution_count": null,
      "outputs": [
        {
          "output_type": "execute_result",
          "data": {
            "text/plain": [
              "['senja menerpa tubuh kita . begitu syahdu, namun sendu merindukanmu . kasihku . . .',\n",
              " 'senja tak pernah lupa bahkan luput dari ingatan ini.',\n",
              " 'senja bersamamu . dalam dekap hangat aku merindumu, aku melamun . rinduku pun lepas, jatuh tergelincir ke dasar ampas . sendiri ia menahan sakit yang membekas.',\n",
              " 'senja; warnanya seperti pipimu yang merona sehabis ciuman pertama . aku suka.',\n",
              " 'senja ini aku berpayung cemburu.']"
            ]
          },
          "metadata": {},
          "execution_count": 499
        }
      ]
    }
  ]
}